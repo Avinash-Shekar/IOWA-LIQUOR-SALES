{
 "cells": [
  {
   "cell_type": "code",
   "execution_count": 2,
   "metadata": {},
   "outputs": [],
   "source": [
    "import pandas\n",
    "import numpy\n",
    "import seaborn as sns\n",
    "import matplotlib.pyplot as plt"
   ]
  },
  {
   "cell_type": "code",
   "execution_count": 9,
   "metadata": {},
   "outputs": [],
   "source": [
    "liquor = pandas.read_csv('C:\\\\Users\\\\shiva\\\\Desktop\\\\DPA\\\\new_liquor_clean_final.csv')"
   ]
  },
  {
   "cell_type": "code",
   "execution_count": 17,
   "metadata": {},
   "outputs": [],
   "source": [
    "liquor = liquor.drop(['Unnamed: 0','X'],axis = 1)"
   ]
  },
  {
   "cell_type": "code",
   "execution_count": 18,
   "metadata": {},
   "outputs": [
    {
     "data": {
      "text/plain": [
       "1048575"
      ]
     },
     "execution_count": 18,
     "metadata": {},
     "output_type": "execute_result"
    }
   ],
   "source": [
    "len(liquor)"
   ]
  },
  {
   "cell_type": "code",
   "execution_count": 19,
   "metadata": {},
   "outputs": [],
   "source": [
    "liquor['Date'] = pandas.to_datetime(liquor['Date'])"
   ]
  },
  {
   "cell_type": "code",
   "execution_count": 20,
   "metadata": {},
   "outputs": [],
   "source": [
    "liquor = liquor[['Date','Store_Number','County','Vendor_Name','Pack','Bottle_Volume_ml','State_Bottle_Cost','State_Bottle_Retail','Bottles_Sold','Sale_Dollars','Volume_Sold_Litres','AchoholTypes']]"
   ]
  },
  {
   "cell_type": "code",
   "execution_count": 21,
   "metadata": {},
   "outputs": [],
   "source": [
    "liquor['Year'] = liquor['Date'].apply(lambda time: time.year)"
   ]
  },
  {
   "cell_type": "code",
   "execution_count": 22,
   "metadata": {},
   "outputs": [],
   "source": [
    "liquor_2016 = liquor[liquor['Year']==2016]"
   ]
  },
  {
   "cell_type": "code",
   "execution_count": 23,
   "metadata": {},
   "outputs": [
    {
     "data": {
      "text/html": [
       "<div>\n",
       "<style scoped>\n",
       "    .dataframe tbody tr th:only-of-type {\n",
       "        vertical-align: middle;\n",
       "    }\n",
       "\n",
       "    .dataframe tbody tr th {\n",
       "        vertical-align: top;\n",
       "    }\n",
       "\n",
       "    .dataframe thead th {\n",
       "        text-align: right;\n",
       "    }\n",
       "</style>\n",
       "<table border=\"1\" class=\"dataframe\">\n",
       "  <thead>\n",
       "    <tr style=\"text-align: right;\">\n",
       "      <th></th>\n",
       "      <th>Store_Number</th>\n",
       "      <th>Pack</th>\n",
       "      <th>Bottle_Volume_ml</th>\n",
       "      <th>State_Bottle_Cost</th>\n",
       "      <th>State_Bottle_Retail</th>\n",
       "      <th>Bottles_Sold</th>\n",
       "      <th>Sale_Dollars</th>\n",
       "      <th>Volume_Sold_Litres</th>\n",
       "      <th>Year</th>\n",
       "    </tr>\n",
       "  </thead>\n",
       "  <tbody>\n",
       "    <tr>\n",
       "      <th>Store_Number</th>\n",
       "      <td>1.000000</td>\n",
       "      <td>0.057381</td>\n",
       "      <td>-0.000907</td>\n",
       "      <td>-0.009031</td>\n",
       "      <td>-0.009030</td>\n",
       "      <td>-0.014573</td>\n",
       "      <td>-0.035464</td>\n",
       "      <td>-0.027119</td>\n",
       "      <td>NaN</td>\n",
       "    </tr>\n",
       "    <tr>\n",
       "      <th>Pack</th>\n",
       "      <td>0.057381</td>\n",
       "      <td>1.000000</td>\n",
       "      <td>-0.087271</td>\n",
       "      <td>-0.083464</td>\n",
       "      <td>-0.083466</td>\n",
       "      <td>0.077964</td>\n",
       "      <td>-0.081486</td>\n",
       "      <td>-0.113510</td>\n",
       "      <td>NaN</td>\n",
       "    </tr>\n",
       "    <tr>\n",
       "      <th>Bottle_Volume_ml</th>\n",
       "      <td>-0.000907</td>\n",
       "      <td>-0.087271</td>\n",
       "      <td>1.000000</td>\n",
       "      <td>0.994089</td>\n",
       "      <td>0.994088</td>\n",
       "      <td>-0.003627</td>\n",
       "      <td>0.219910</td>\n",
       "      <td>0.269690</td>\n",
       "      <td>NaN</td>\n",
       "    </tr>\n",
       "    <tr>\n",
       "      <th>State_Bottle_Cost</th>\n",
       "      <td>-0.009031</td>\n",
       "      <td>-0.083464</td>\n",
       "      <td>0.994089</td>\n",
       "      <td>1.000000</td>\n",
       "      <td>1.000000</td>\n",
       "      <td>-0.005040</td>\n",
       "      <td>0.229752</td>\n",
       "      <td>0.262727</td>\n",
       "      <td>NaN</td>\n",
       "    </tr>\n",
       "    <tr>\n",
       "      <th>State_Bottle_Retail</th>\n",
       "      <td>-0.009030</td>\n",
       "      <td>-0.083466</td>\n",
       "      <td>0.994088</td>\n",
       "      <td>1.000000</td>\n",
       "      <td>1.000000</td>\n",
       "      <td>-0.005038</td>\n",
       "      <td>0.229757</td>\n",
       "      <td>0.262730</td>\n",
       "      <td>NaN</td>\n",
       "    </tr>\n",
       "    <tr>\n",
       "      <th>Bottles_Sold</th>\n",
       "      <td>-0.014573</td>\n",
       "      <td>0.077964</td>\n",
       "      <td>-0.003627</td>\n",
       "      <td>-0.005040</td>\n",
       "      <td>-0.005038</td>\n",
       "      <td>1.000000</td>\n",
       "      <td>0.891761</td>\n",
       "      <td>0.867859</td>\n",
       "      <td>NaN</td>\n",
       "    </tr>\n",
       "    <tr>\n",
       "      <th>Sale_Dollars</th>\n",
       "      <td>-0.035464</td>\n",
       "      <td>-0.081486</td>\n",
       "      <td>0.219910</td>\n",
       "      <td>0.229752</td>\n",
       "      <td>0.229757</td>\n",
       "      <td>0.891761</td>\n",
       "      <td>1.000000</td>\n",
       "      <td>0.928949</td>\n",
       "      <td>NaN</td>\n",
       "    </tr>\n",
       "    <tr>\n",
       "      <th>Volume_Sold_Litres</th>\n",
       "      <td>-0.027119</td>\n",
       "      <td>-0.113510</td>\n",
       "      <td>0.269690</td>\n",
       "      <td>0.262727</td>\n",
       "      <td>0.262730</td>\n",
       "      <td>0.867859</td>\n",
       "      <td>0.928949</td>\n",
       "      <td>1.000000</td>\n",
       "      <td>NaN</td>\n",
       "    </tr>\n",
       "    <tr>\n",
       "      <th>Year</th>\n",
       "      <td>NaN</td>\n",
       "      <td>NaN</td>\n",
       "      <td>NaN</td>\n",
       "      <td>NaN</td>\n",
       "      <td>NaN</td>\n",
       "      <td>NaN</td>\n",
       "      <td>NaN</td>\n",
       "      <td>NaN</td>\n",
       "      <td>NaN</td>\n",
       "    </tr>\n",
       "  </tbody>\n",
       "</table>\n",
       "</div>"
      ],
      "text/plain": [
       "                     Store_Number      Pack  Bottle_Volume_ml  \\\n",
       "Store_Number             1.000000  0.057381         -0.000907   \n",
       "Pack                     0.057381  1.000000         -0.087271   \n",
       "Bottle_Volume_ml        -0.000907 -0.087271          1.000000   \n",
       "State_Bottle_Cost       -0.009031 -0.083464          0.994089   \n",
       "State_Bottle_Retail     -0.009030 -0.083466          0.994088   \n",
       "Bottles_Sold            -0.014573  0.077964         -0.003627   \n",
       "Sale_Dollars            -0.035464 -0.081486          0.219910   \n",
       "Volume_Sold_Litres      -0.027119 -0.113510          0.269690   \n",
       "Year                          NaN       NaN               NaN   \n",
       "\n",
       "                     State_Bottle_Cost  State_Bottle_Retail  Bottles_Sold  \\\n",
       "Store_Number                 -0.009031            -0.009030     -0.014573   \n",
       "Pack                         -0.083464            -0.083466      0.077964   \n",
       "Bottle_Volume_ml              0.994089             0.994088     -0.003627   \n",
       "State_Bottle_Cost             1.000000             1.000000     -0.005040   \n",
       "State_Bottle_Retail           1.000000             1.000000     -0.005038   \n",
       "Bottles_Sold                 -0.005040            -0.005038      1.000000   \n",
       "Sale_Dollars                  0.229752             0.229757      0.891761   \n",
       "Volume_Sold_Litres            0.262727             0.262730      0.867859   \n",
       "Year                               NaN                  NaN           NaN   \n",
       "\n",
       "                     Sale_Dollars  Volume_Sold_Litres  Year  \n",
       "Store_Number            -0.035464           -0.027119   NaN  \n",
       "Pack                    -0.081486           -0.113510   NaN  \n",
       "Bottle_Volume_ml         0.219910            0.269690   NaN  \n",
       "State_Bottle_Cost        0.229752            0.262727   NaN  \n",
       "State_Bottle_Retail      0.229757            0.262730   NaN  \n",
       "Bottles_Sold             0.891761            0.867859   NaN  \n",
       "Sale_Dollars             1.000000            0.928949   NaN  \n",
       "Volume_Sold_Litres       0.928949            1.000000   NaN  \n",
       "Year                          NaN                 NaN   NaN  "
      ]
     },
     "execution_count": 23,
     "metadata": {},
     "output_type": "execute_result"
    }
   ],
   "source": [
    "liquor_2016.corr()"
   ]
  },
  {
   "cell_type": "code",
   "execution_count": 24,
   "metadata": {},
   "outputs": [
    {
     "data": {
      "text/plain": [
       "<matplotlib.axes._subplots.AxesSubplot at 0x28d284e18d0>"
      ]
     },
     "execution_count": 24,
     "metadata": {},
     "output_type": "execute_result"
    },
    {
     "data": {
      "image/png": "[encoded data removed]",
      "text/plain": [
       "<Figure size 432x288 with 2 Axes>"
      ]
     },
     "metadata": {
      "needs_background": "light"
     },
     "output_type": "display_data"
    }
   ],
   "source": [
    "sns.heatmap(liquor_2016.corr())"
   ]
  },
  {
   "cell_type": "markdown",
   "metadata": {},
   "source": [
    "We can see 'Volume_Sold_Litres' has a very high correlation with 'Sale_Dollars' and hence it is selected as on of the first parameters to prdict 'Sale_Dollars'. "
   ]
  },
  {
   "cell_type": "raw",
   "metadata": {},
   "source": [
    "We grouped the data by 'County' and derive below columns\n",
    "Volume_Sold_Litres = sum(Volume_Sold_Litres)\n",
    "Sale_Dollars = sum(Sale_Dollars)\n",
    "Store_Number = count(unique(Store_Number))\n",
    "Vendor_Name = count(unique(Vendor_Name))\n",
    "AlcolholTypes = count(unique(AlcolholTypes))\n"
   ]
  },
  {
   "cell_type": "code",
   "execution_count": null,
   "metadata": {},
   "outputs": [],
   "source": [
    "# Get County wise sales for 2016\n",
    "liquor_2016_County_volume = liquor_2016.groupby(['County'])['Volume_Sold_Litres'].sum().to_frame().sort_values('Volume_Sold_Litres', ascending=0)\n",
    "\n",
    "# resetting the index\n",
    "liquor_2016_County_volume['County'] = liquor_2016_County_volume.index\n",
    "\n",
    "liquor_2016_County_volume.index = range(0, len(liquor_2016_County_volume))"
   ]
  },
  {
   "cell_type": "code",
   "execution_count": 33,
   "metadata": {},
   "outputs": [
    {
     "data": {
      "text/html": [
       "<div>\n",
       "<style scoped>\n",
       "    .dataframe tbody tr th:only-of-type {\n",
       "        vertical-align: middle;\n",
       "    }\n",
       "\n",
       "    .dataframe tbody tr th {\n",
       "        vertical-align: top;\n",
       "    }\n",
       "\n",
       "    .dataframe thead th {\n",
       "        text-align: right;\n",
       "    }\n",
       "</style>\n",
       "<table border=\"1\" class=\"dataframe\">\n",
       "  <thead>\n",
       "    <tr style=\"text-align: right;\">\n",
       "      <th></th>\n",
       "      <th>Volume_Sold_Litres</th>\n",
       "      <th>County</th>\n",
       "    </tr>\n",
       "  </thead>\n",
       "  <tbody>\n",
       "    <tr>\n",
       "      <th>0</th>\n",
       "      <td>189361.95</td>\n",
       "      <td>Polk</td>\n",
       "    </tr>\n",
       "    <tr>\n",
       "      <th>1</th>\n",
       "      <td>88911.80</td>\n",
       "      <td>Linn</td>\n",
       "    </tr>\n",
       "    <tr>\n",
       "      <th>2</th>\n",
       "      <td>69781.39</td>\n",
       "      <td>Scott</td>\n",
       "    </tr>\n",
       "    <tr>\n",
       "      <th>3</th>\n",
       "      <td>56649.79</td>\n",
       "      <td>Johnson</td>\n",
       "    </tr>\n",
       "    <tr>\n",
       "      <th>4</th>\n",
       "      <td>54297.16</td>\n",
       "      <td>Black Hawk</td>\n",
       "    </tr>\n",
       "  </tbody>\n",
       "</table>\n",
       "</div>"
      ],
      "text/plain": [
       "   Volume_Sold_Litres      County\n",
       "0           189361.95        Polk\n",
       "1            88911.80        Linn\n",
       "2            69781.39       Scott\n",
       "3            56649.79     Johnson\n",
       "4            54297.16  Black Hawk"
      ]
     },
     "execution_count": 33,
     "metadata": {},
     "output_type": "execute_result"
    }
   ],
   "source": [
    "liquor_2016_County_volume.head()"
   ]
  },
  {
   "cell_type": "code",
   "execution_count": 27,
   "metadata": {},
   "outputs": [],
   "source": [
    "liquor_2016_County_sales = liquor_2016.groupby(['County'])['Sale_Dollars'].sum().to_frame().sort_values('Sale_Dollars', ascending=0)\n",
    "\n",
    "# resetting the index\n",
    "liquor_2016_County_sales['County'] = liquor_2016_County_sales.index\n",
    "\n",
    "liquor_2016_County_sales.index = range(0, len(liquor_2016_County_sales))"
   ]
  },
  {
   "cell_type": "code",
   "execution_count": 34,
   "metadata": {},
   "outputs": [
    {
     "data": {
      "text/html": [
       "<div>\n",
       "<style scoped>\n",
       "    .dataframe tbody tr th:only-of-type {\n",
       "        vertical-align: middle;\n",
       "    }\n",
       "\n",
       "    .dataframe tbody tr th {\n",
       "        vertical-align: top;\n",
       "    }\n",
       "\n",
       "    .dataframe thead th {\n",
       "        text-align: right;\n",
       "    }\n",
       "</style>\n",
       "<table border=\"1\" class=\"dataframe\">\n",
       "  <thead>\n",
       "    <tr style=\"text-align: right;\">\n",
       "      <th></th>\n",
       "      <th>Sale_Dollars</th>\n",
       "      <th>County</th>\n",
       "    </tr>\n",
       "  </thead>\n",
       "  <tbody>\n",
       "    <tr>\n",
       "      <th>0</th>\n",
       "      <td>3.474311e+06</td>\n",
       "      <td>Polk</td>\n",
       "    </tr>\n",
       "    <tr>\n",
       "      <th>1</th>\n",
       "      <td>1.474663e+06</td>\n",
       "      <td>Linn</td>\n",
       "    </tr>\n",
       "    <tr>\n",
       "      <th>2</th>\n",
       "      <td>1.128010e+06</td>\n",
       "      <td>Scott</td>\n",
       "    </tr>\n",
       "    <tr>\n",
       "      <th>3</th>\n",
       "      <td>1.011385e+06</td>\n",
       "      <td>Johnson</td>\n",
       "    </tr>\n",
       "    <tr>\n",
       "      <th>4</th>\n",
       "      <td>9.206307e+05</td>\n",
       "      <td>Black Hawk</td>\n",
       "    </tr>\n",
       "  </tbody>\n",
       "</table>\n",
       "</div>"
      ],
      "text/plain": [
       "   Sale_Dollars      County\n",
       "0  3.474311e+06        Polk\n",
       "1  1.474663e+06        Linn\n",
       "2  1.128010e+06       Scott\n",
       "3  1.011385e+06     Johnson\n",
       "4  9.206307e+05  Black Hawk"
      ]
     },
     "execution_count": 34,
     "metadata": {},
     "output_type": "execute_result"
    }
   ],
   "source": [
    "liquor_2016_County_sales.head()"
   ]
  },
  {
   "cell_type": "code",
   "execution_count": 29,
   "metadata": {},
   "outputs": [],
   "source": [
    "liquor_2016_County_Store_count = liquor_2016.groupby(['County'])['Store_Number'].nunique().to_frame().sort_values('Store_Number', ascending=0)\n",
    "\n",
    "# resetting the index\n",
    "liquor_2016_County_Store_count['County'] = liquor_2016_County_Store_count.index\n",
    "\n",
    "liquor_2016_County_Store_count.index = range(0, len(liquor_2016_County_Store_count))"
   ]
  },
  {
   "cell_type": "code",
   "execution_count": 35,
   "metadata": {},
   "outputs": [
    {
     "data": {
      "text/html": [
       "<div>\n",
       "<style scoped>\n",
       "    .dataframe tbody tr th:only-of-type {\n",
       "        vertical-align: middle;\n",
       "    }\n",
       "\n",
       "    .dataframe tbody tr th {\n",
       "        vertical-align: top;\n",
       "    }\n",
       "\n",
       "    .dataframe thead th {\n",
       "        text-align: right;\n",
       "    }\n",
       "</style>\n",
       "<table border=\"1\" class=\"dataframe\">\n",
       "  <thead>\n",
       "    <tr style=\"text-align: right;\">\n",
       "      <th></th>\n",
       "      <th>Store_Number</th>\n",
       "      <th>County</th>\n",
       "    </tr>\n",
       "  </thead>\n",
       "  <tbody>\n",
       "    <tr>\n",
       "      <th>0</th>\n",
       "      <td>204</td>\n",
       "      <td>Polk</td>\n",
       "    </tr>\n",
       "    <tr>\n",
       "      <th>1</th>\n",
       "      <td>103</td>\n",
       "      <td>Linn</td>\n",
       "    </tr>\n",
       "    <tr>\n",
       "      <th>2</th>\n",
       "      <td>74</td>\n",
       "      <td>Scott</td>\n",
       "    </tr>\n",
       "    <tr>\n",
       "      <th>3</th>\n",
       "      <td>68</td>\n",
       "      <td>Black Hawk</td>\n",
       "    </tr>\n",
       "    <tr>\n",
       "      <th>4</th>\n",
       "      <td>55</td>\n",
       "      <td>Johnson</td>\n",
       "    </tr>\n",
       "  </tbody>\n",
       "</table>\n",
       "</div>"
      ],
      "text/plain": [
       "   Store_Number      County\n",
       "0           204        Polk\n",
       "1           103        Linn\n",
       "2            74       Scott\n",
       "3            68  Black Hawk\n",
       "4            55     Johnson"
      ]
     },
     "execution_count": 35,
     "metadata": {},
     "output_type": "execute_result"
    }
   ],
   "source": [
    "liquor_2016_County_Store_count.head()\n"
   ]
  },
  {
   "cell_type": "code",
   "execution_count": 31,
   "metadata": {},
   "outputs": [],
   "source": [
    "liquor_2016_County_Brand_count = liquor_2016.groupby(['County'])['Vendor_Name'].nunique().to_frame().sort_values('Vendor_Name', ascending=0)\n",
    "\n",
    "# resetting the index\n",
    "liquor_2016_County_Brand_count['County'] = liquor_2016_County_Brand_count.index\n",
    "\n",
    "liquor_2016_County_Brand_count.index = range(0, len(liquor_2016_County_Brand_count))"
   ]
  },
  {
   "cell_type": "code",
   "execution_count": 36,
   "metadata": {},
   "outputs": [
    {
     "data": {
      "text/html": [
       "<div>\n",
       "<style scoped>\n",
       "    .dataframe tbody tr th:only-of-type {\n",
       "        vertical-align: middle;\n",
       "    }\n",
       "\n",
       "    .dataframe tbody tr th {\n",
       "        vertical-align: top;\n",
       "    }\n",
       "\n",
       "    .dataframe thead th {\n",
       "        text-align: right;\n",
       "    }\n",
       "</style>\n",
       "<table border=\"1\" class=\"dataframe\">\n",
       "  <thead>\n",
       "    <tr style=\"text-align: right;\">\n",
       "      <th></th>\n",
       "      <th>Vendor_Name</th>\n",
       "      <th>County</th>\n",
       "    </tr>\n",
       "  </thead>\n",
       "  <tbody>\n",
       "    <tr>\n",
       "      <th>0</th>\n",
       "      <td>32</td>\n",
       "      <td>Polk</td>\n",
       "    </tr>\n",
       "    <tr>\n",
       "      <th>1</th>\n",
       "      <td>27</td>\n",
       "      <td>Story</td>\n",
       "    </tr>\n",
       "    <tr>\n",
       "      <th>2</th>\n",
       "      <td>26</td>\n",
       "      <td>Johnson</td>\n",
       "    </tr>\n",
       "    <tr>\n",
       "      <th>3</th>\n",
       "      <td>23</td>\n",
       "      <td>Linn</td>\n",
       "    </tr>\n",
       "    <tr>\n",
       "      <th>4</th>\n",
       "      <td>23</td>\n",
       "      <td>Black Hawk</td>\n",
       "    </tr>\n",
       "  </tbody>\n",
       "</table>\n",
       "</div>"
      ],
      "text/plain": [
       "   Vendor_Name      County\n",
       "0           32        Polk\n",
       "1           27       Story\n",
       "2           26     Johnson\n",
       "3           23        Linn\n",
       "4           23  Black Hawk"
      ]
     },
     "execution_count": 36,
     "metadata": {},
     "output_type": "execute_result"
    }
   ],
   "source": [
    "liquor_2016_County_Brand_count.head()"
   ]
  },
  {
   "cell_type": "code",
   "execution_count": 37,
   "metadata": {},
   "outputs": [],
   "source": [
    "liquor_2016_County_Category_count = liquor_2016.groupby(['County'])['AchoholTypes'].nunique().to_frame().sort_values('AchoholTypes', ascending=0)\n",
    "\n",
    "# resetting the index\n",
    "liquor_2016_County_Category_count['County'] = liquor_2016_County_Category_count.index\n",
    "\n",
    "liquor_2016_County_Category_count.index = range(0, len(liquor_2016_County_Category_count))"
   ]
  },
  {
   "cell_type": "code",
   "execution_count": 38,
   "metadata": {},
   "outputs": [
    {
     "data": {
      "text/html": [
       "<div>\n",
       "<style scoped>\n",
       "    .dataframe tbody tr th:only-of-type {\n",
       "        vertical-align: middle;\n",
       "    }\n",
       "\n",
       "    .dataframe tbody tr th {\n",
       "        vertical-align: top;\n",
       "    }\n",
       "\n",
       "    .dataframe thead th {\n",
       "        text-align: right;\n",
       "    }\n",
       "</style>\n",
       "<table border=\"1\" class=\"dataframe\">\n",
       "  <thead>\n",
       "    <tr style=\"text-align: right;\">\n",
       "      <th></th>\n",
       "      <th>AchoholTypes</th>\n",
       "      <th>County</th>\n",
       "    </tr>\n",
       "  </thead>\n",
       "  <tbody>\n",
       "    <tr>\n",
       "      <th>0</th>\n",
       "      <td>12</td>\n",
       "      <td>Scott</td>\n",
       "    </tr>\n",
       "    <tr>\n",
       "      <th>1</th>\n",
       "      <td>12</td>\n",
       "      <td>Clinton</td>\n",
       "    </tr>\n",
       "    <tr>\n",
       "      <th>2</th>\n",
       "      <td>12</td>\n",
       "      <td>Lee</td>\n",
       "    </tr>\n",
       "    <tr>\n",
       "      <th>3</th>\n",
       "      <td>12</td>\n",
       "      <td>Linn</td>\n",
       "    </tr>\n",
       "    <tr>\n",
       "      <th>4</th>\n",
       "      <td>12</td>\n",
       "      <td>Des Moines</td>\n",
       "    </tr>\n",
       "  </tbody>\n",
       "</table>\n",
       "</div>"
      ],
      "text/plain": [
       "   AchoholTypes      County\n",
       "0            12       Scott\n",
       "1            12     Clinton\n",
       "2            12         Lee\n",
       "3            12        Linn\n",
       "4            12  Des Moines"
      ]
     },
     "execution_count": 38,
     "metadata": {},
     "output_type": "execute_result"
    }
   ],
   "source": [
    "liquor_2016_County_Category_count.head()"
   ]
  },
  {
   "cell_type": "code",
   "execution_count": 39,
   "metadata": {},
   "outputs": [
    {
     "data": {
      "text/html": [
       "<div>\n",
       "<style scoped>\n",
       "    .dataframe tbody tr th:only-of-type {\n",
       "        vertical-align: middle;\n",
       "    }\n",
       "\n",
       "    .dataframe tbody tr th {\n",
       "        vertical-align: top;\n",
       "    }\n",
       "\n",
       "    .dataframe thead th {\n",
       "        text-align: right;\n",
       "    }\n",
       "</style>\n",
       "<table border=\"1\" class=\"dataframe\">\n",
       "  <thead>\n",
       "    <tr style=\"text-align: right;\">\n",
       "      <th></th>\n",
       "      <th>Volume_Sold_Litres</th>\n",
       "      <th>County</th>\n",
       "      <th>Sale_Dollars</th>\n",
       "      <th>Store_Number</th>\n",
       "      <th>Vendor_Name</th>\n",
       "      <th>AchoholTypes</th>\n",
       "    </tr>\n",
       "  </thead>\n",
       "  <tbody>\n",
       "    <tr>\n",
       "      <th>0</th>\n",
       "      <td>189361.95</td>\n",
       "      <td>Polk</td>\n",
       "      <td>3.474311e+06</td>\n",
       "      <td>204</td>\n",
       "      <td>32</td>\n",
       "      <td>12</td>\n",
       "    </tr>\n",
       "    <tr>\n",
       "      <th>1</th>\n",
       "      <td>88911.80</td>\n",
       "      <td>Linn</td>\n",
       "      <td>1.474663e+06</td>\n",
       "      <td>103</td>\n",
       "      <td>23</td>\n",
       "      <td>12</td>\n",
       "    </tr>\n",
       "    <tr>\n",
       "      <th>2</th>\n",
       "      <td>69781.39</td>\n",
       "      <td>Scott</td>\n",
       "      <td>1.128010e+06</td>\n",
       "      <td>74</td>\n",
       "      <td>22</td>\n",
       "      <td>12</td>\n",
       "    </tr>\n",
       "    <tr>\n",
       "      <th>3</th>\n",
       "      <td>56649.79</td>\n",
       "      <td>Johnson</td>\n",
       "      <td>1.011385e+06</td>\n",
       "      <td>55</td>\n",
       "      <td>26</td>\n",
       "      <td>11</td>\n",
       "    </tr>\n",
       "    <tr>\n",
       "      <th>4</th>\n",
       "      <td>54297.16</td>\n",
       "      <td>Black Hawk</td>\n",
       "      <td>9.206307e+05</td>\n",
       "      <td>68</td>\n",
       "      <td>23</td>\n",
       "      <td>12</td>\n",
       "    </tr>\n",
       "  </tbody>\n",
       "</table>\n",
       "</div>"
      ],
      "text/plain": [
       "   Volume_Sold_Litres      County  Sale_Dollars  Store_Number  Vendor_Name  \\\n",
       "0           189361.95        Polk  3.474311e+06           204           32   \n",
       "1            88911.80        Linn  1.474663e+06           103           23   \n",
       "2            69781.39       Scott  1.128010e+06            74           22   \n",
       "3            56649.79     Johnson  1.011385e+06            55           26   \n",
       "4            54297.16  Black Hawk  9.206307e+05            68           23   \n",
       "\n",
       "   AchoholTypes  \n",
       "0            12  \n",
       "1            12  \n",
       "2            12  \n",
       "3            11  \n",
       "4            12  "
      ]
     },
     "execution_count": 39,
     "metadata": {},
     "output_type": "execute_result"
    }
   ],
   "source": [
    "liquor_2016_county = pandas.merge(liquor_2016_County_volume, liquor_2016_County_sales, how='inner', on='County')\n",
    "liquor_2016_county = pandas.merge(liquor_2016_county, liquor_2016_County_Store_count, how='inner', on='County')\n",
    "liquor_2016_county = pandas.merge(liquor_2016_county, liquor_2016_County_Brand_count, how='inner', on='County')\n",
    "liquor_2016_county = pandas.merge(liquor_2016_county, liquor_2016_County_Category_count, how='inner', on='County')\n",
    "liquor_2016_county.head()"
   ]
  },
  {
   "cell_type": "code",
   "execution_count": 40,
   "metadata": {},
   "outputs": [
    {
     "data": {
      "text/plain": [
       "<matplotlib.axes._subplots.AxesSubplot at 0x28d16284358>"
      ]
     },
     "execution_count": 40,
     "metadata": {},
     "output_type": "execute_result"
    },
    {
     "data": {
      "image/png": "[encoded data removed]",
      "text/plain": [
       "<Figure size 432x288 with 2 Axes>"
      ]
     },
     "metadata": {
      "needs_background": "light"
     },
     "output_type": "display_data"
    }
   ],
   "source": [
    "sns.heatmap(liquor_2016_county.corr())"
   ]
  },
  {
   "cell_type": "code",
   "execution_count": 47,
   "metadata": {},
   "outputs": [
    {
     "data": {
      "text/plain": [
       "Text(0.5, 1.0, 'Histogram for Volume_Sold_Litres')"
      ]
     },
     "execution_count": 47,
     "metadata": {},
     "output_type": "execute_result"
    },
    {
     "data": {
      "image/png": "[encoded data removed]",
      "text/plain": [
       "<Figure size 432x288 with 1 Axes>"
      ]
     },
     "metadata": {
      "needs_background": "light"
     },
     "output_type": "display_data"
    }
   ],
   "source": [
    "plt.hist(liquor_2016_county['Volume_Sold_Litres'])\n",
    "plt.xlabel('Volume_Sold_Litres')\n",
    "plt.title('Histogram for Volume_Sold_Litres')"
   ]
  },
  {
   "cell_type": "code",
   "execution_count": 56,
   "metadata": {},
   "outputs": [
    {
     "data": {
      "text/plain": [
       "Text(0.5, 1.0, 'Histogram for log of Volume_Sold_Litres')"
      ]
     },
     "execution_count": 56,
     "metadata": {},
     "output_type": "execute_result"
    },
    {
     "data": {
      "image/png": "[encoded data removed]",
      "text/plain": [
       "<Figure size 432x288 with 1 Axes>"
      ]
     },
     "metadata": {
      "needs_background": "light"
     },
     "output_type": "display_data"
    }
   ],
   "source": [
    "# Logarithmic transformation of Volume_Sold_Litres' to normalize data\n",
    "plt.hist(numpy.log(liquor_2016_county['Volume_Sold_Litres']))\n",
    "plt.xlabel('log_Volume_Sold_Litres')\n",
    "plt.title('Histogram for log of Volume_Sold_Litres')"
   ]
  },
  {
   "cell_type": "code",
   "execution_count": 49,
   "metadata": {},
   "outputs": [],
   "source": [
    "# Normalize the data\n",
    "liquor_2016_county['log_Volume_Sold_Litres'] = numpy.log(liquor_2016_county['Volume_Sold_Litres'])"
   ]
  },
  {
   "cell_type": "code",
   "execution_count": 225,
   "metadata": {},
   "outputs": [
    {
     "data": {
      "text/plain": [
       "Text(0.5, 1.0, 'Histogram of Vendor_Name')"
      ]
     },
     "execution_count": 225,
     "metadata": {},
     "output_type": "execute_result"
    },
    {
     "data": {
      "image/png": "[encoded data removed]",
      "text/plain": [
       "<Figure size 432x288 with 1 Axes>"
      ]
     },
     "metadata": {
      "needs_background": "light"
     },
     "output_type": "display_data"
    }
   ],
   "source": [
    "plt.hist(liquor_2016_county['Vendor_Name'])\n",
    "plt.xlabel('Vendor_Name')\n",
    "plt.title('Histogram of Vendor_Name')"
   ]
  },
  {
   "cell_type": "code",
   "execution_count": 51,
   "metadata": {},
   "outputs": [
    {
     "data": {
      "text/plain": [
       "Text(0.5, 1.0, 'Histogram of Alcohol Types')"
      ]
     },
     "execution_count": 51,
     "metadata": {},
     "output_type": "execute_result"
    },
    {
     "data": {
      "image/png": "[encoded data removed]",
      "text/plain": [
       "<Figure size 432x288 with 1 Axes>"
      ]
     },
     "metadata": {
      "needs_background": "light"
     },
     "output_type": "display_data"
    }
   ],
   "source": [
    "plt.hist((liquor_2016_county['AchoholTypes']))\n",
    "plt.xlabel('Alcohol Types')\n",
    "plt.title('Histogram of Alcohol Types')"
   ]
  },
  {
   "cell_type": "code",
   "execution_count": 52,
   "metadata": {},
   "outputs": [],
   "source": [
    "#Normalize data\n",
    "liquor_2016_county['AchoholTypes_norm'] = (liquor_2016_county['AchoholTypes']-numpy.mean(liquor_2016_county['AchoholTypes']))/numpy.std(liquor_2016_county['AchoholTypes'])"
   ]
  },
  {
   "cell_type": "code",
   "execution_count": 53,
   "metadata": {},
   "outputs": [
    {
     "data": {
      "text/plain": [
       "Text(0.5, 1.0, 'Histogram of Normalized Alcohol Types')"
      ]
     },
     "execution_count": 53,
     "metadata": {},
     "output_type": "execute_result"
    },
    {
     "data": {
      "image/png": "[encoded data removed]",
      "text/plain": [
       "<Figure size 432x288 with 1 Axes>"
      ]
     },
     "metadata": {
      "needs_background": "light"
     },
     "output_type": "display_data"
    }
   ],
   "source": [
    "plt.hist(liquor_2016_county['AchoholTypes_norm'])\n",
    "plt.xlabel('Normalized Alcohol Types')\n",
    "plt.title('Histogram of Normalized Alcohol Types')"
   ]
  },
  {
   "cell_type": "code",
   "execution_count": 55,
   "metadata": {
    "scrolled": true
   },
   "outputs": [
    {
     "data": {
      "text/plain": [
       "Text(0.5, 1.0, 'Boxplot of Vendor_Name')"
      ]
     },
     "execution_count": 55,
     "metadata": {},
     "output_type": "execute_result"
    },
    {
     "data": {
      "image/png": "[encoded data removed]",
      "text/plain": [
       "<Figure size 432x288 with 1 Axes>"
      ]
     },
     "metadata": {
      "needs_background": "light"
     },
     "output_type": "display_data"
    }
   ],
   "source": [
    "plt.boxplot(liquor_2016_county['Vendor_Name'])\n",
    "plt.xlabel('Vendor_Name')\n",
    "plt.title('Boxplot of Vendor_Name')\n"
   ]
  },
  {
   "cell_type": "code",
   "execution_count": 57,
   "metadata": {},
   "outputs": [
    {
     "data": {
      "text/plain": [
       "Text(0.5, 1.0, 'Boxplot for Volume_Sold_Litres')"
      ]
     },
     "execution_count": 57,
     "metadata": {},
     "output_type": "execute_result"
    },
    {
     "data": {
      "image/png": "[encoded data removed]",
      "text/plain": [
       "<Figure size 432x288 with 1 Axes>"
      ]
     },
     "metadata": {
      "needs_background": "light"
     },
     "output_type": "display_data"
    }
   ],
   "source": [
    "plt.boxplot(liquor_2016_county['Volume_Sold_Litres'])\n",
    "plt.xlabel('Volume_Sold_Litres')\n",
    "plt.title('Boxplot for Volume_Sold_Litres')"
   ]
  },
  {
   "cell_type": "code",
   "execution_count": 58,
   "metadata": {},
   "outputs": [
    {
     "data": {
      "text/plain": [
       "Text(0.5, 1.0, 'Histogram for log of Volume_Sold_Litres')"
      ]
     },
     "execution_count": 58,
     "metadata": {},
     "output_type": "execute_result"
    },
    {
     "data": {
      "image/png": "[encoded data removed]",
      "text/plain": [
       "<Figure size 432x288 with 1 Axes>"
      ]
     },
     "metadata": {
      "needs_background": "light"
     },
     "output_type": "display_data"
    }
   ],
   "source": [
    "plt.boxplot(liquor_2016_county['log_Volume_Sold_Litres'])\n",
    "plt.xlabel('log_Volume_Sold_Litres')\n",
    "plt.title('Histogram for log of Volume_Sold_Litres')"
   ]
  },
  {
   "cell_type": "code",
   "execution_count": 59,
   "metadata": {},
   "outputs": [
    {
     "data": {
      "text/plain": [
       "Text(0.5, 1.0, 'Boxplot of Alcohol Types')"
      ]
     },
     "execution_count": 59,
     "metadata": {},
     "output_type": "execute_result"
    },
    {
     "data": {
      "image/png": "[encoded data removed]",
      "text/plain": [
       "<Figure size 432x288 with 1 Axes>"
      ]
     },
     "metadata": {
      "needs_background": "light"
     },
     "output_type": "display_data"
    }
   ],
   "source": [
    "plt.boxplot(liquor_2016_county['AchoholTypes'])\n",
    "plt.xlabel('Alcohol Types')\n",
    "plt.title('Boxplot of Alcohol Types')"
   ]
  },
  {
   "cell_type": "code",
   "execution_count": 60,
   "metadata": {},
   "outputs": [
    {
     "data": {
      "text/plain": [
       "<seaborn.axisgrid.JointGrid at 0x28d14dc1208>"
      ]
     },
     "execution_count": 60,
     "metadata": {},
     "output_type": "execute_result"
    },
    {
     "data": {
      "image/png": "[encoded data removed]",
      "text/plain": [
       "<Figure size 432x432 with 3 Axes>"
      ]
     },
     "metadata": {
      "needs_background": "light"
     },
     "output_type": "display_data"
    }
   ],
   "source": [
    "\n",
    "sns.jointplot(x=(liquor_2016_county['Vendor_Name']), y=liquor_2016_county['Sale_Dollars'],kind='scatter')\n",
    "#plt.show()"
   ]
  },
  {
   "cell_type": "code",
   "execution_count": 62,
   "metadata": {},
   "outputs": [
    {
     "data": {
      "text/plain": [
       "<seaborn.axisgrid.JointGrid at 0x28d14dc1b38>"
      ]
     },
     "execution_count": 62,
     "metadata": {},
     "output_type": "execute_result"
    },
    {
     "data": {
      "image/png": "[encoded data removed]",
      "text/plain": [
       "<Figure size 432x432 with 3 Axes>"
      ]
     },
     "metadata": {
      "needs_background": "light"
     },
     "output_type": "display_data"
    }
   ],
   "source": [
    "\n",
    "sns.jointplot(x=(liquor_2016_county['Vendor_Name'])**2, y=liquor_2016_county['Sale_Dollars'],kind='scatter')\n",
    "#plt.show()"
   ]
  },
  {
   "cell_type": "code",
   "execution_count": 63,
   "metadata": {},
   "outputs": [],
   "source": [
    "liquor_2016_county['Vendor_Name_square']=(liquor_2016_county['Vendor_Name'])**2"
   ]
  },
  {
   "cell_type": "code",
   "execution_count": 226,
   "metadata": {},
   "outputs": [
    {
     "data": {
      "text/plain": [
       "<seaborn.axisgrid.JointGrid at 0x28d15a6dcc0>"
      ]
     },
     "execution_count": 226,
     "metadata": {},
     "output_type": "execute_result"
    },
    {
     "data": {
      "image/png": "[encoded data removed]",
      "text/plain": [
       "<Figure size 432x432 with 3 Axes>"
      ]
     },
     "metadata": {
      "needs_background": "light"
     },
     "output_type": "display_data"
    }
   ],
   "source": [
    "\n",
    "sns.jointplot(x=(liquor_2016_county['Vendor_Name_square']), y=liquor_2016_county['Sale_Dollars'],kind='scatter')\n",
    "#plt.show()"
   ]
  },
  {
   "cell_type": "code",
   "execution_count": 64,
   "metadata": {},
   "outputs": [
    {
     "data": {
      "text/plain": [
       "<seaborn.axisgrid.JointGrid at 0x28d17e68940>"
      ]
     },
     "execution_count": 64,
     "metadata": {},
     "output_type": "execute_result"
    },
    {
     "data": {
      "image/png": "[encoded data removed]",
      "text/plain": [
       "<Figure size 432x432 with 3 Axes>"
      ]
     },
     "metadata": {
      "needs_background": "light"
     },
     "output_type": "display_data"
    }
   ],
   "source": [
    "\n",
    "sns.jointplot(x=(liquor_2016_county['Volume_Sold_Litres']), y=liquor_2016_county['Sale_Dollars'],kind='scatter')\n",
    "#plt.show()"
   ]
  },
  {
   "cell_type": "code",
   "execution_count": 224,
   "metadata": {},
   "outputs": [
    {
     "data": {
      "text/plain": [
       "<seaborn.axisgrid.JointGrid at 0x28d14d10b38>"
      ]
     },
     "execution_count": 224,
     "metadata": {},
     "output_type": "execute_result"
    },
    {
     "data": {
      "image/png": "[encoded data removed]",
      "text/plain": [
       "<Figure size 432x432 with 3 Axes>"
      ]
     },
     "metadata": {
      "needs_background": "light"
     },
     "output_type": "display_data"
    }
   ],
   "source": [
    "\n",
    "sns.jointplot(x=(liquor_2016_county['log_Volume_Sold_Litres']), y=liquor_2016_county['Sale_Dollars'],kind='scatter')\n",
    "#plt.show()"
   ]
  },
  {
   "cell_type": "code",
   "execution_count": 65,
   "metadata": {},
   "outputs": [
    {
     "data": {
      "text/plain": [
       "<seaborn.axisgrid.JointGrid at 0x28d15b0d8d0>"
      ]
     },
     "execution_count": 65,
     "metadata": {},
     "output_type": "execute_result"
    },
    {
     "data": {
      "image/png": "[encoded data removed]",
      "text/plain": [
       "<Figure size 432x432 with 3 Axes>"
      ]
     },
     "metadata": {
      "needs_background": "light"
     },
     "output_type": "display_data"
    }
   ],
   "source": [
    "\n",
    "sns.jointplot(x=liquor_2016_county['AchoholTypes'], y=liquor_2016_county['Sale_Dollars'],kind='scatter')"
   ]
  },
  {
   "cell_type": "code",
   "execution_count": 227,
   "metadata": {},
   "outputs": [
    {
     "data": {
      "text/plain": [
       "<seaborn.axisgrid.JointGrid at 0x28d15c19f98>"
      ]
     },
     "execution_count": 227,
     "metadata": {},
     "output_type": "execute_result"
    },
    {
     "data": {
      "image/png": "[encoded data removed]",
      "text/plain": [
       "<Figure size 432x432 with 3 Axes>"
      ]
     },
     "metadata": {
      "needs_background": "light"
     },
     "output_type": "display_data"
    }
   ],
   "source": [
    "\n",
    "sns.jointplot(x=liquor_2016_county['AchoholTypes_norm'], y=liquor_2016_county['Sale_Dollars'],kind='scatter')"
   ]
  },
  {
   "cell_type": "code",
   "execution_count": 66,
   "metadata": {},
   "outputs": [
    {
     "data": {
      "text/plain": [
       "<matplotlib.axes._subplots.AxesSubplot at 0x28d21b11ef0>"
      ]
     },
     "execution_count": 66,
     "metadata": {},
     "output_type": "execute_result"
    },
    {
     "data": {
      "image/png": "[encoded data removed]",
      "text/plain": [
       "<Figure size 432x288 with 2 Axes>"
      ]
     },
     "metadata": {
      "needs_background": "light"
     },
     "output_type": "display_data"
    }
   ],
   "source": [
    "sns.heatmap(liquor_2016_county.corr())"
   ]
  },
  {
   "cell_type": "code",
   "execution_count": null,
   "metadata": {},
   "outputs": [],
   "source": [
    "from statsmodels.stats.outliers_influence import variance_inflation_factor\n",
    "from statsmodels.tools.tools import add_constant"
   ]
  },
  {
   "cell_type": "code",
   "execution_count": null,
   "metadata": {},
   "outputs": [],
   "source": [
    "X = liquor_2016_county[['Vendor_Name','GDP_2016']]\n",
    "\n",
    "X = add_constant(X)\n",
    "pandas.Series([variance_inflation_factor(X.values, i) \n",
    "               for i in range(X.shape[1])], \n",
    "              index=X.columns)"
   ]
  },
  {
   "cell_type": "code",
   "execution_count": null,
   "metadata": {},
   "outputs": [],
   "source": [
    "X = liquor_2016_county[['Vendor_Name','Volume_Sold_Litres','Vendor_Name_square','GDP_2016']]\n",
    "\n",
    "X = add_constant(X)\n",
    "pandas.Series([variance_inflation_factor(X.values, i) \n",
    "               for i in range(X.shape[1])], \n",
    "              index=X.columns)"
   ]
  },
  {
   "cell_type": "code",
   "execution_count": 67,
   "metadata": {},
   "outputs": [],
   "source": [
    "from sklearn.model_selection import train_test_split\n",
    "from sklearn.model_selection import KFold, cross_val_score, cross_val_predict\n",
    "from sklearn import metrics\n",
    "from sklearn.linear_model import LinearRegression\n",
    "from sklearn import linear_model\n",
    "import scipy.stats as stats\n",
    "import sklearn.metrics as metrics\n",
    "import sklearn.linear_model as linear_model\n",
    "import statsmodels.api as sm\n",
    "from sklearn.metrics import mean_squared_error"
   ]
  },
  {
   "cell_type": "markdown",
   "metadata": {},
   "source": [
    "# Model 1: Using only 'Volume_Sold_Litres' to predict 'Sale_Dollars'"
   ]
  },
  {
   "cell_type": "code",
   "execution_count": 68,
   "metadata": {},
   "outputs": [
    {
     "name": "stdout",
     "output_type": "stream",
     "text": [
      "                            OLS Regression Results                            \n",
      "==============================================================================\n",
      "Dep. Variable:           Sale_Dollars   R-squared:                       0.997\n",
      "Model:                            OLS   Adj. R-squared:                  0.997\n",
      "Method:                 Least Squares   F-statistic:                 3.176e+04\n",
      "Date:                Sun, 19 Apr 2020   Prob (F-statistic):          7.26e-124\n",
      "Time:                        21:27:46   Log-Likelihood:                -1133.3\n",
      "No. Observations:                  99   AIC:                             2271.\n",
      "Df Residuals:                      97   BIC:                             2276.\n",
      "Df Model:                           1                                         \n",
      "Covariance Type:            nonrobust                                         \n",
      "======================================================================================\n",
      "                         coef    std err          t      P>|t|      [0.025      0.975]\n",
      "--------------------------------------------------------------------------------------\n",
      "const              -1.279e+04   2491.314     -5.132      0.000   -1.77e+04   -7841.567\n",
      "Volume_Sold_Litres    17.8100      0.100    178.214      0.000      17.612      18.008\n",
      "==============================================================================\n",
      "Omnibus:                       43.442   Durbin-Watson:                   1.543\n",
      "Prob(Omnibus):                  0.000   Jarque-Bera (JB):              616.659\n",
      "Skew:                          -0.825   Prob(JB):                    1.24e-134\n",
      "Kurtosis:                      15.115   Cond. No.                     2.70e+04\n",
      "==============================================================================\n",
      "\n",
      "Warnings:\n",
      "[1] Standard Errors assume that the covariance matrix of the errors is correctly specified.\n",
      "[2] The condition number is large, 2.7e+04. This might indicate that there are\n",
      "strong multicollinearity or other numerical problems.\n"
     ]
    },
    {
     "name": "stderr",
     "output_type": "stream",
     "text": [
      "C:\\Users\\shiva\\Anaconda3\\lib\\site-packages\\numpy\\core\\fromnumeric.py:2389: FutureWarning: Method .ptp is deprecated and will be removed in a future version. Use numpy.ptp instead.\n",
      "  return ptp(axis=axis, out=out, **kwargs)\n"
     ]
    }
   ],
   "source": [
    "dep = liquor_2016_county['Sale_Dollars']\n",
    "indep = liquor_2016_county['Volume_Sold_Litres']\n",
    "indep = sm.add_constant(indep)\n",
    "model = sm.OLS(dep,indep)\n",
    "results = model.fit()\n",
    "print(results.summary())"
   ]
  },
  {
   "cell_type": "code",
   "execution_count": 69,
   "metadata": {},
   "outputs": [],
   "source": [
    "\n",
    "X_train, X_test, y_train, y_test = train_test_split(indep, dep, test_size=0.3, random_state=1)"
   ]
  },
  {
   "cell_type": "code",
   "execution_count": 70,
   "metadata": {},
   "outputs": [
    {
     "name": "stdout",
     "output_type": "stream",
     "text": [
      "[ 3.38646814e+06  1.58211876e+06  1.23848618e+06  1.00260805e+06\n",
      "  9.60348612e+05  5.57187508e+05  5.33040158e+05  5.28639492e+05\n",
      "  5.08697734e+05  3.68299623e+05  2.97053346e+05  2.92720759e+05\n",
      "  2.64805926e+05  2.12980850e+05  2.11735859e+05  2.02859444e+05\n",
      "  1.98850543e+05  1.95568949e+05  1.23324129e+05  1.00661930e+05\n",
      "  9.84746199e+04  9.79100543e+04  9.60342163e+04  9.53372661e+04\n",
      "  9.49719061e+04  9.17745571e+04  8.96675400e+04  8.80376105e+04\n",
      "  8.71657042e+04  8.47721830e+04  8.02691301e+04  7.98685633e+04\n",
      "  7.88125400e+04  7.87766147e+04  7.52034874e+04  7.33572877e+04\n",
      "  7.26678818e+04  7.03244765e+04  6.98452334e+04  6.88211835e+04\n",
      "  6.23670291e+04  6.09530105e+04  5.64390003e+04  5.31493234e+04\n",
      "  5.00848978e+04  4.43467341e+04  4.32145492e+04  4.29057715e+04\n",
      "  4.18625016e+04  4.02070652e+04  3.89861449e+04  3.41006674e+04\n",
      "  3.19119204e+04  3.13730413e+04  2.95848610e+04  2.77445890e+04\n",
      "  2.76404057e+04  2.72816919e+04  2.70542850e+04  2.40556027e+04\n",
      "  2.39262717e+04  2.35352251e+04  2.30184401e+04  2.25467413e+04\n",
      "  2.14986216e+04  2.14851496e+04  2.13403708e+04  2.05047490e+04\n",
      "  2.03980509e+04  1.99162931e+04  1.94842917e+04  1.86147205e+04\n",
      "  1.83919839e+04  1.74349347e+04  1.71186127e+04  1.62091644e+04\n",
      "  1.38810273e+04  1.28413500e+04  1.27802771e+04  1.10819099e+04\n",
      "  7.91096595e+03  6.50036022e+03  3.33193103e+03  6.91244059e+02\n",
      "  6.46517097e+02 -2.51614653e+02 -1.44235773e+03 -1.69096060e+03\n",
      " -4.92136088e+03 -5.12344052e+03 -5.53891627e+03 -5.74458844e+03\n",
      " -7.94590936e+03 -8.24893901e+03 -8.42946350e+03 -8.91661016e+03\n",
      " -1.00856184e+04 -1.02616523e+04 -1.21558121e+04]\n"
     ]
    }
   ],
   "source": [
    "lm = LinearRegression()\n",
    "lm.fit(X_train, y_train)\n",
    "y_pred = lm.predict(indep)\n",
    "print(y_pred)"
   ]
  },
  {
   "cell_type": "code",
   "execution_count": 71,
   "metadata": {},
   "outputs": [
    {
     "name": "stdout",
     "output_type": "stream",
     "text": [
      "[0.99094385 0.99155328 0.9273191  0.99448108 0.99620616]\n",
      "0.9801006950375118\n"
     ]
    }
   ],
   "source": [
    "\n",
    "scores = cross_val_score(lm, X_test, y_test, cv=5)\n",
    "print(scores)\n",
    "print(numpy.mean(scores))"
   ]
  },
  {
   "cell_type": "code",
   "execution_count": 72,
   "metadata": {
    "scrolled": true
   },
   "outputs": [
    {
     "name": "stdout",
     "output_type": "stream",
     "text": [
      "0.9968788048074861\n",
      "526173216.27265507\n",
      "13416.351105025835\n",
      "22938.465865716807\n"
     ]
    },
    {
     "data": {
      "image/png": "[encoded data removed]",
      "text/plain": [
       "<Figure size 432x288 with 1 Axes>"
      ]
     },
     "metadata": {
      "needs_background": "light"
     },
     "output_type": "display_data"
    }
   ],
   "source": [
    "plt.scatter(dep, y_pred, marker='+', color='r')\n",
    "plt.xlabel(\"True Values\")\n",
    "plt.ylabel(\"Predictions\")\n",
    "accuracy = metrics.r2_score(dep, y_pred)\n",
    "mse= metrics.mean_squared_error(dep, y_pred)\n",
    "mae=metrics.mean_absolute_error(dep,y_pred)\n",
    "rmse=numpy.sqrt(metrics.mean_squared_error(dep, y_pred))\n",
    "print(accuracy)\n",
    "print(mse)\n",
    "print(mae)\n",
    "print(rmse)"
   ]
  },
  {
   "cell_type": "raw",
   "metadata": {},
   "source": [
    "# For Model 1:\n",
    "R-squared: 0.997\n",
    "Adj. R-squared: 0.997\n",
    "Mean Cross Validation Score: 0.9801006950375118\n",
    "Accuracy: 0.9968788048074861\n",
    "Mean Squared Error: 526173216.27265507\n",
    "Mean Absolute Error: 13416.351105025835\n",
    "Root Mean Squared Error: 22938.465865716807"
   ]
  },
  {
   "cell_type": "markdown",
   "metadata": {},
   "source": [
    "# Model 2: Using 'Volume_Sold_Litres' and 'Vendor_Name' to predict 'Sale_Dollars'"
   ]
  },
  {
   "cell_type": "code",
   "execution_count": 73,
   "metadata": {},
   "outputs": [
    {
     "name": "stdout",
     "output_type": "stream",
     "text": [
      "                            OLS Regression Results                            \n",
      "==============================================================================\n",
      "Dep. Variable:           Sale_Dollars   R-squared:                       0.997\n",
      "Model:                            OLS   Adj. R-squared:                  0.997\n",
      "Method:                 Least Squares   F-statistic:                 1.801e+04\n",
      "Date:                Sun, 19 Apr 2020   Prob (F-statistic):          2.40e-124\n",
      "Time:                        21:33:24   Log-Likelihood:                -1126.5\n",
      "No. Observations:                  99   AIC:                             2259.\n",
      "Df Residuals:                      96   BIC:                             2267.\n",
      "Df Model:                           2                                         \n",
      "Covariance Type:            nonrobust                                         \n",
      "======================================================================================\n",
      "                         coef    std err          t      P>|t|      [0.025      0.975]\n",
      "--------------------------------------------------------------------------------------\n",
      "const               1.307e+04   7305.293      1.789      0.077   -1430.813    2.76e+04\n",
      "Volume_Sold_Litres    18.1661      0.134    135.789      0.000      17.901      18.432\n",
      "Vendor_Name        -2304.8923    616.904     -3.736      0.000   -3529.438   -1080.347\n",
      "==============================================================================\n",
      "Omnibus:                       60.158   Durbin-Watson:                   1.822\n",
      "Prob(Omnibus):                  0.000   Jarque-Bera (JB):              692.621\n",
      "Skew:                          -1.552   Prob(JB):                    3.97e-151\n",
      "Kurtosis:                      15.581   Cond. No.                     8.46e+04\n",
      "==============================================================================\n",
      "\n",
      "Warnings:\n",
      "[1] Standard Errors assume that the covariance matrix of the errors is correctly specified.\n",
      "[2] The condition number is large, 8.46e+04. This might indicate that there are\n",
      "strong multicollinearity or other numerical problems.\n"
     ]
    },
    {
     "name": "stderr",
     "output_type": "stream",
     "text": [
      "C:\\Users\\shiva\\Anaconda3\\lib\\site-packages\\numpy\\core\\fromnumeric.py:2389: FutureWarning: Method .ptp is deprecated and will be removed in a future version. Use numpy.ptp instead.\n",
      "  return ptp(axis=axis, out=out, **kwargs)\n"
     ]
    }
   ],
   "source": [
    "dep = liquor_2016_county['Sale_Dollars']\n",
    "indep = liquor_2016_county[['Volume_Sold_Litres','Vendor_Name']]\n",
    "indep = sm.add_constant(indep)\n",
    "model = sm.OLS(dep,indep)\n",
    "results = model.fit()\n",
    "print(results.summary())"
   ]
  },
  {
   "cell_type": "code",
   "execution_count": 74,
   "metadata": {},
   "outputs": [],
   "source": [
    "\n",
    "X_train, X_test, y_train, y_test = train_test_split(indep, dep, test_size=0.3, random_state=1)"
   ]
  },
  {
   "cell_type": "code",
   "execution_count": 75,
   "metadata": {},
   "outputs": [
    {
     "name": "stdout",
     "output_type": "stream",
     "text": [
      "[ 3.40550093e+06  1.58641250e+06  1.23813974e+06  9.87044520e+05\n",
      "  9.51600917e+05  5.55388051e+05  5.25599412e+05  5.15971637e+05\n",
      "  4.80207187e+05  3.57403494e+05  2.92365058e+05  2.87941596e+05\n",
      "  2.54306452e+05  2.03961764e+05  1.94988450e+05  1.91060661e+05\n",
      "  1.89535078e+05  1.91319460e+05  1.17559327e+05  9.18543921e+04\n",
      "  9.73234134e+04  9.16121998e+04  7.94274040e+04  9.66876577e+04\n",
      "  9.63146344e+04  8.79154156e+04  9.60338172e+04  8.92348941e+04\n",
      "  8.06424902e+04  7.30639594e+04  7.36012626e+04  7.06248909e+04\n",
      "  7.72489274e+04  6.95100390e+04  7.86989824e+04  6.65444465e+04\n",
      "  7.35427901e+04  7.62850389e+04  7.06609374e+04  7.21828117e+04\n",
      "  5.78910738e+04  6.15822029e+04  5.95409160e+04  4.59126263e+04\n",
      "  5.30535381e+04  3.94928085e+04  4.34716828e+04  4.57238318e+04\n",
      "  4.20912765e+04  3.78337146e+04  4.42893954e+04  4.18688497e+04\n",
      "  3.96341944e+04  2.88143997e+04  3.72583256e+04  3.28120514e+04\n",
      "  2.50034733e+04  2.46372356e+04  3.21072684e+04  3.16130928e+04\n",
      "  1.60766300e+04  2.59469942e+04  2.28519666e+04  2.23703740e+04\n",
      "  2.38676735e+04  5.88209658e+03  2.62735066e+04  2.79877611e+04\n",
      "  2.01766155e+04  3.25217689e+04  1.41088841e+04  1.83558803e+04\n",
      "  2.83980845e+04  2.99883647e+04  2.45306016e+04  2.36020780e+04\n",
      "  1.86577057e+04  1.24614151e+04  1.23990611e+04  1.06650713e+04\n",
      "  1.76972305e+04  1.88244409e+04  7.88734534e+03  1.80282867e+04\n",
      "  1.54152184e+04  1.19308454e+04  1.07151269e+04  2.75910009e+03\n",
      "  2.02834635e+03  6.95683452e+03 -1.16956527e+03  1.18785184e+03\n",
      "  4.07516527e+03  6.33318285e+03  6.14887192e+03 -7.18550845e+03\n",
      "  7.02538282e+03  4.27825355e+03  1.26139770e+04]\n"
     ]
    }
   ],
   "source": [
    "lm = LinearRegression()\n",
    "lm.fit(X_train, y_train)\n",
    "y_pred = lm.predict(indep)\n",
    "print(y_pred)"
   ]
  },
  {
   "cell_type": "code",
   "execution_count": 76,
   "metadata": {},
   "outputs": [
    {
     "name": "stdout",
     "output_type": "stream",
     "text": [
      "[0.99063537 0.99177886 0.92889381 0.99502902 0.99644301]\n",
      "0.9805560130775515\n"
     ]
    }
   ],
   "source": [
    "scores = cross_val_score(lm, X_test, y_test, cv=5)\n",
    "print(scores)\n",
    "print(numpy.mean(scores))"
   ]
  },
  {
   "cell_type": "code",
   "execution_count": 77,
   "metadata": {},
   "outputs": [
    {
     "name": "stdout",
     "output_type": "stream",
     "text": [
      "0.997281258438978\n",
      "458327308.33630466\n",
      "11726.78040453686\n",
      "21408.58025036468\n"
     ]
    },
    {
     "data": {
      "image/png": "[encoded data removed]",
      "text/plain": [
       "<Figure size 432x288 with 1 Axes>"
      ]
     },
     "metadata": {
      "needs_background": "light"
     },
     "output_type": "display_data"
    }
   ],
   "source": [
    "plt.scatter(dep, y_pred, marker='+', color='r')\n",
    "plt.xlabel(\"True Values\")\n",
    "plt.ylabel(\"Predictions\")\n",
    "accuracy = metrics.r2_score(dep, y_pred)\n",
    "mse= metrics.mean_squared_error(dep, y_pred)\n",
    "mae=metrics.mean_absolute_error(dep,y_pred)\n",
    "rmse=numpy.sqrt(metrics.mean_squared_error(dep, y_pred))\n",
    "print(accuracy)\n",
    "print(mse)\n",
    "print(mae)\n",
    "print(rmse)"
   ]
  },
  {
   "cell_type": "raw",
   "metadata": {},
   "source": [
    "# For Model 2:\n",
    "R-squared: 0.997\n",
    "Adj. R-squared: 0.997\n",
    "Mean Cross Validation Score: 0.9805560130775515\n",
    "Accuracy: 0.997281258438978\n",
    "Mean Squared Error: 458327308.33630466\n",
    "Mean Absolute Error: 11726.78040453686\n",
    "Root Mean Squared Error: 21408.58025036468"
   ]
  },
  {
   "cell_type": "markdown",
   "metadata": {},
   "source": [
    "# Model 3: Using 'Volume_Sold_Litres','Vendor_Name' and 'Vendor_Name_square' to predict 'Sale_Dollars'"
   ]
  },
  {
   "cell_type": "code",
   "execution_count": 78,
   "metadata": {},
   "outputs": [
    {
     "name": "stdout",
     "output_type": "stream",
     "text": [
      "                            OLS Regression Results                            \n",
      "==============================================================================\n",
      "Dep. Variable:           Sale_Dollars   R-squared:                       0.998\n",
      "Model:                            OLS   Adj. R-squared:                  0.997\n",
      "Method:                 Least Squares   F-statistic:                 1.268e+04\n",
      "Date:                Sun, 19 Apr 2020   Prob (F-statistic):          1.68e-123\n",
      "Time:                        21:34:52   Log-Likelihood:                -1123.3\n",
      "No. Observations:                  99   AIC:                             2255.\n",
      "Df Residuals:                      95   BIC:                             2265.\n",
      "Df Model:                           3                                         \n",
      "Covariance Type:            nonrobust                                         \n",
      "======================================================================================\n",
      "                         coef    std err          t      P>|t|      [0.025      0.975]\n",
      "--------------------------------------------------------------------------------------\n",
      "const               4.078e+04   1.31e+04      3.117      0.002    1.48e+04    6.67e+04\n",
      "Volume_Sold_Litres    17.7663      0.205     86.632      0.000      17.359      18.173\n",
      "Vendor_Name        -7134.1785   2005.862     -3.557      0.001   -1.11e+04   -3152.039\n",
      "Vendor_Name_square   201.1395     79.714      2.523      0.013      42.887     359.393\n",
      "==============================================================================\n",
      "Omnibus:                       47.274   Durbin-Watson:                   1.771\n",
      "Prob(Omnibus):                  0.000   Jarque-Bera (JB):              417.514\n",
      "Skew:                          -1.175   Prob(JB):                     2.18e-91\n",
      "Kurtosis:                      12.782   Cond. No.                     1.57e+05\n",
      "==============================================================================\n",
      "\n",
      "Warnings:\n",
      "[1] Standard Errors assume that the covariance matrix of the errors is correctly specified.\n",
      "[2] The condition number is large, 1.57e+05. This might indicate that there are\n",
      "strong multicollinearity or other numerical problems.\n"
     ]
    },
    {
     "name": "stderr",
     "output_type": "stream",
     "text": [
      "C:\\Users\\shiva\\Anaconda3\\lib\\site-packages\\numpy\\core\\fromnumeric.py:2389: FutureWarning: Method .ptp is deprecated and will be removed in a future version. Use numpy.ptp instead.\n",
      "  return ptp(axis=axis, out=out, **kwargs)\n"
     ]
    }
   ],
   "source": [
    "dep = liquor_2016_county['Sale_Dollars']\n",
    "indep = liquor_2016_county[['Volume_Sold_Litres','Vendor_Name','Vendor_Name_square']]\n",
    "indep = sm.add_constant(indep)\n",
    "model = sm.OLS(dep,indep)\n",
    "results = model.fit()\n",
    "print(results.summary())"
   ]
  },
  {
   "cell_type": "code",
   "execution_count": 79,
   "metadata": {},
   "outputs": [],
   "source": [
    "X_train, X_test, y_train, y_test = train_test_split(indep, dep, test_size=0.3, random_state=1)"
   ]
  },
  {
   "cell_type": "code",
   "execution_count": 80,
   "metadata": {},
   "outputs": [
    {
     "name": "stdout",
     "output_type": "stream",
     "text": [
      "[ 3.40899005e+06  1.57147943e+06  1.22666277e+06  1.00094332e+06\n",
      "  9.50755958e+05  5.44476797e+05  5.19828055e+05  5.16700373e+05\n",
      "  5.11434613e+05  3.55364840e+05  2.85729416e+05  2.81404121e+05\n",
      "  2.52090430e+05  2.00849567e+05  1.99471467e+05  1.90248227e+05\n",
      "  1.86743047e+05  1.85816636e+05  1.13693431e+05  8.96685994e+04\n",
      "  9.30430283e+04  8.83221375e+04  8.35577573e+04  9.26674499e+04\n",
      "  9.23027050e+04  8.40496542e+04  9.38759691e+04  8.53800823e+04\n",
      "  7.75958741e+04  7.28567237e+04  7.07109095e+04  6.89102357e+04\n",
      "  7.34140470e+04  6.78201253e+04  7.57759623e+04  6.38107024e+04\n",
      "  7.00362267e+04  7.45654672e+04  6.72183298e+04  6.94044022e+04\n",
      "  5.46916301e+04  5.83410759e+04  5.70430629e+04  4.36367556e+04\n",
      "  5.06996567e+04  3.67016700e+04  4.06324750e+04  4.35326155e+04\n",
      "  3.92827035e+04  3.48735596e+04  4.32798898e+04  4.25148433e+04\n",
      "  4.03297807e+04  2.60544066e+04  3.80066386e+04  3.20572576e+04\n",
      "  2.23280545e+04  2.19699445e+04  3.13681156e+04  3.24866881e+04\n",
      "  1.44628972e+04  2.41946770e+04  2.04703635e+04  1.99994588e+04\n",
      "  2.21615018e+04  9.17925309e+03  2.56638201e+04  2.89418119e+04\n",
      "  1.78543854e+04  3.79344731e+04  1.18810804e+04  1.60740570e+04\n",
      "  3.13967145e+04  3.54572918e+04  2.55613757e+04  2.46534584e+04\n",
      "  1.82170335e+04  1.03104053e+04  1.02494351e+04  8.55392695e+03\n",
      "  2.09333400e+04  2.45411243e+04  7.68569525e+03  3.01295307e+04\n",
      "  2.41650551e+04  1.78005155e+04  1.66117769e+04  2.67125902e+03\n",
      "  3.55850363e+03  1.29368908e+04 -1.17021910e+03  2.73666187e+03\n",
      "  1.01191732e+04  1.52845734e+04  1.51043528e+04 -8.20252974e+03\n",
      "  1.93708097e+04  1.32752483e+04  3.77749983e+04]\n"
     ]
    }
   ],
   "source": [
    "lm = LinearRegression()\n",
    "lm.fit(X_train, y_train)\n",
    "y_pred = lm.predict(indep)\n",
    "print(y_pred)"
   ]
  },
  {
   "cell_type": "code",
   "execution_count": 81,
   "metadata": {},
   "outputs": [
    {
     "name": "stdout",
     "output_type": "stream",
     "text": [
      "[0.99066072 0.98737262 0.9279001  0.99492686 0.99687631]\n",
      "0.9795473203388447\n"
     ]
    }
   ],
   "source": [
    "scores = cross_val_score(lm, X_test, y_test, cv=5)\n",
    "print(scores)\n",
    "print(numpy.mean(scores))"
   ]
  },
  {
   "cell_type": "code",
   "execution_count": 82,
   "metadata": {},
   "outputs": [
    {
     "name": "stdout",
     "output_type": "stream",
     "text": [
      "0.9974340422033644\n",
      "432570917.0365124\n",
      "13011.736911346945\n",
      "20798.339285541824\n"
     ]
    },
    {
     "data": {
      "image/png": "[encoded data removed]",
      "text/plain": [
       "<Figure size 432x288 with 1 Axes>"
      ]
     },
     "metadata": {
      "needs_background": "light"
     },
     "output_type": "display_data"
    }
   ],
   "source": [
    "plt.scatter(dep, y_pred, marker='+', color='r')\n",
    "plt.xlabel(\"True Values\")\n",
    "plt.ylabel(\"Predictions\")\n",
    "accuracy = metrics.r2_score(dep, y_pred)\n",
    "mse= metrics.mean_squared_error(dep, y_pred)\n",
    "mae=metrics.mean_absolute_error(dep,y_pred)\n",
    "rmse=numpy.sqrt(metrics.mean_squared_error(dep, y_pred))\n",
    "print(accuracy)\n",
    "print(mse)\n",
    "print(mae)\n",
    "print(rmse)"
   ]
  },
  {
   "cell_type": "raw",
   "metadata": {},
   "source": [
    "# For Model 3:\n",
    "R-squared: 0.998\n",
    "Adj. R-squared: 0.997\n",
    "Mean Cross Validation Score: 0.9795473203388447\n",
    "Accuracy: 0.9974340422033644\n",
    "Mean Squared Error: 432570917.0365124\n",
    "Mean Absolute Error: 13011.736911346945\n",
    "Root Mean Squared Error: 20798.339285541824"
   ]
  },
  {
   "cell_type": "markdown",
   "metadata": {},
   "source": [
    "# Model 4: Using 'log_Volume_Sold_Litres','Vendor_Name' and 'Vendor_Name_square' to predict 'Sale_Dollars'"
   ]
  },
  {
   "cell_type": "code",
   "execution_count": 83,
   "metadata": {},
   "outputs": [
    {
     "name": "stdout",
     "output_type": "stream",
     "text": [
      "                            OLS Regression Results                            \n",
      "==============================================================================\n",
      "Dep. Variable:           Sale_Dollars   R-squared:                       0.835\n",
      "Model:                            OLS   Adj. R-squared:                  0.830\n",
      "Method:                 Least Squares   F-statistic:                     160.4\n",
      "Date:                Sun, 19 Apr 2020   Prob (F-statistic):           4.65e-37\n",
      "Time:                        21:35:17   Log-Likelihood:                -1330.8\n",
      "No. Observations:                  99   AIC:                             2670.\n",
      "Df Residuals:                      95   BIC:                             2680.\n",
      "Df Model:                           3                                         \n",
      "Covariance Type:            nonrobust                                         \n",
      "==========================================================================================\n",
      "                             coef    std err          t      P>|t|      [0.025      0.975]\n",
      "------------------------------------------------------------------------------------------\n",
      "const                  -2.864e+04    1.6e+05     -0.179      0.859   -3.47e+05    2.89e+05\n",
      "log_Volume_Sold_Litres  1.229e+05   2.76e+04      4.456      0.000    6.81e+04    1.78e+05\n",
      "Vendor_Name            -1.494e+05   1.55e+04     -9.618      0.000    -1.8e+05   -1.19e+05\n",
      "Vendor_Name_square      5828.3069    416.815     13.983      0.000    5000.824    6655.790\n",
      "==============================================================================\n",
      "Omnibus:                       49.278   Durbin-Watson:                   1.148\n",
      "Prob(Omnibus):                  0.000   Jarque-Bera (JB):             1130.527\n",
      "Skew:                          -0.841   Prob(JB):                    3.23e-246\n",
      "Kurtosis:                      19.469   Cond. No.                     2.31e+03\n",
      "==============================================================================\n",
      "\n",
      "Warnings:\n",
      "[1] Standard Errors assume that the covariance matrix of the errors is correctly specified.\n",
      "[2] The condition number is large, 2.31e+03. This might indicate that there are\n",
      "strong multicollinearity or other numerical problems.\n"
     ]
    },
    {
     "name": "stderr",
     "output_type": "stream",
     "text": [
      "C:\\Users\\shiva\\Anaconda3\\lib\\site-packages\\numpy\\core\\fromnumeric.py:2389: FutureWarning: Method .ptp is deprecated and will be removed in a future version. Use numpy.ptp instead.\n",
      "  return ptp(axis=axis, out=out, **kwargs)\n"
     ]
    }
   ],
   "source": [
    "dep = liquor_2016_county['Sale_Dollars']\n",
    "indep = liquor_2016_county[['log_Volume_Sold_Litres','Vendor_Name','Vendor_Name_square']]\n",
    "indep = sm.add_constant(indep)\n",
    "model = sm.OLS(dep,indep)\n",
    "results = model.fit()\n",
    "print(results.summary())"
   ]
  },
  {
   "cell_type": "markdown",
   "metadata": {},
   "source": [
    "# Model 5: Using 'log_Volume_Sold_Litres' and 'Vendor_Name' to predict 'Sale_Dollars'"
   ]
  },
  {
   "cell_type": "code",
   "execution_count": 84,
   "metadata": {},
   "outputs": [
    {
     "name": "stdout",
     "output_type": "stream",
     "text": [
      "                            OLS Regression Results                            \n",
      "==============================================================================\n",
      "Dep. Variable:           Sale_Dollars   R-squared:                       0.496\n",
      "Model:                            OLS   Adj. R-squared:                  0.485\n",
      "Method:                 Least Squares   F-statistic:                     47.21\n",
      "Date:                Sun, 19 Apr 2020   Prob (F-statistic):           5.27e-15\n",
      "Time:                        21:35:25   Log-Likelihood:                -1386.2\n",
      "No. Observations:                  99   AIC:                             2778.\n",
      "Df Residuals:                      96   BIC:                             2786.\n",
      "Df Model:                           2                                         \n",
      "Covariance Type:            nonrobust                                         \n",
      "==========================================================================================\n",
      "                             coef    std err          t      P>|t|      [0.025      0.975]\n",
      "------------------------------------------------------------------------------------------\n",
      "const                  -8.923e+05   2.57e+05     -3.469      0.001    -1.4e+06   -3.82e+05\n",
      "log_Volume_Sold_Litres  6.236e+04   4.74e+04      1.317      0.191   -3.17e+04    1.56e+05\n",
      "Vendor_Name              4.28e+04   1.26e+04      3.402      0.001    1.78e+04    6.78e+04\n",
      "==============================================================================\n",
      "Omnibus:                      135.463   Durbin-Watson:                   0.507\n",
      "Prob(Omnibus):                  0.000   Jarque-Bera (JB):             4802.684\n",
      "Skew:                           4.669   Prob(JB):                         0.00\n",
      "Kurtosis:                      35.819   Cond. No.                         139.\n",
      "==============================================================================\n",
      "\n",
      "Warnings:\n",
      "[1] Standard Errors assume that the covariance matrix of the errors is correctly specified.\n"
     ]
    }
   ],
   "source": [
    "dep = liquor_2016_county['Sale_Dollars']\n",
    "indep = liquor_2016_county[['log_Volume_Sold_Litres','Vendor_Name']]\n",
    "indep = sm.add_constant(indep)\n",
    "model = sm.OLS(dep,indep)\n",
    "results = model.fit()\n",
    "print(results.summary())"
   ]
  },
  {
   "cell_type": "raw",
   "metadata": {},
   "source": [
    "# For Model 4 and 5 \n",
    "R-squared and Adj. R-squared:\n",
    "are significantly less than other models hence we discard these models"
   ]
  },
  {
   "cell_type": "markdown",
   "metadata": {},
   "source": [
    "# Model 6: Using 'Volume_Sold_Litres','Vendor_Name' and 'AcoholTypes' to predict 'Sale_Dollars'\n"
   ]
  },
  {
   "cell_type": "code",
   "execution_count": 85,
   "metadata": {},
   "outputs": [
    {
     "name": "stdout",
     "output_type": "stream",
     "text": [
      "                            OLS Regression Results                            \n",
      "==============================================================================\n",
      "Dep. Variable:           Sale_Dollars   R-squared:                       0.997\n",
      "Model:                            OLS   Adj. R-squared:                  0.997\n",
      "Method:                 Least Squares   F-statistic:                 1.204e+04\n",
      "Date:                Sun, 19 Apr 2020   Prob (F-statistic):          1.93e-122\n",
      "Time:                        21:35:45   Log-Likelihood:                -1125.9\n",
      "No. Observations:                  99   AIC:                             2260.\n",
      "Df Residuals:                      95   BIC:                             2270.\n",
      "Df Model:                           3                                         \n",
      "Covariance Type:            nonrobust                                         \n",
      "======================================================================================\n",
      "                         coef    std err          t      P>|t|      [0.025      0.975]\n",
      "--------------------------------------------------------------------------------------\n",
      "const               2.326e+04   1.16e+04      2.008      0.047     265.157    4.63e+04\n",
      "Volume_Sold_Litres    18.1026      0.145    124.932      0.000      17.815      18.390\n",
      "Vendor_Name        -1484.0613    951.201     -1.560      0.122   -3372.433     404.311\n",
      "AchoholTypes       -2091.0003   1846.357     -1.133      0.260   -5756.483    1574.482\n",
      "==============================================================================\n",
      "Omnibus:                       57.758   Durbin-Watson:                   1.782\n",
      "Prob(Omnibus):                  0.000   Jarque-Bera (JB):              673.207\n",
      "Skew:                          -1.454   Prob(JB):                    6.53e-147\n",
      "Kurtosis:                      15.440   Cond. No.                     1.35e+05\n",
      "==============================================================================\n",
      "\n",
      "Warnings:\n",
      "[1] Standard Errors assume that the covariance matrix of the errors is correctly specified.\n",
      "[2] The condition number is large, 1.35e+05. This might indicate that there are\n",
      "strong multicollinearity or other numerical problems.\n"
     ]
    }
   ],
   "source": [
    "\n",
    "dep = liquor_2016_county['Sale_Dollars']\n",
    "indep = liquor_2016_county[['Volume_Sold_Litres','Vendor_Name','AchoholTypes']]\n",
    "indep = sm.add_constant(indep)\n",
    "model = sm.OLS(dep,indep)\n",
    "results = model.fit()\n",
    "print(results.summary())\n"
   ]
  },
  {
   "cell_type": "markdown",
   "metadata": {},
   "source": [
    "# Model 7: Using 'Volume_Sold_Litres','Vendor_Name', 'Vendor_Name_square' and 'AcoholTypes' to predict 'Sale_Dollars'\n"
   ]
  },
  {
   "cell_type": "code",
   "execution_count": 86,
   "metadata": {},
   "outputs": [
    {
     "name": "stdout",
     "output_type": "stream",
     "text": [
      "                            OLS Regression Results                            \n",
      "==============================================================================\n",
      "Dep. Variable:           Sale_Dollars   R-squared:                       0.998\n",
      "Model:                            OLS   Adj. R-squared:                  0.997\n",
      "Method:                 Least Squares   F-statistic:                     9457.\n",
      "Date:                Sun, 19 Apr 2020   Prob (F-statistic):          1.62e-121\n",
      "Time:                        21:36:45   Log-Likelihood:                -1123.1\n",
      "No. Observations:                  99   AIC:                             2256.\n",
      "Df Residuals:                      94   BIC:                             2269.\n",
      "Df Model:                           4                                         \n",
      "Covariance Type:            nonrobust                                         \n",
      "======================================================================================\n",
      "                         coef    std err          t      P>|t|      [0.025      0.975]\n",
      "--------------------------------------------------------------------------------------\n",
      "const               3.942e+04   1.33e+04      2.972      0.004    1.31e+04    6.58e+04\n",
      "Volume_Sold_Litres    17.7197      0.217     81.820      0.000      17.290      18.150\n",
      "Vendor_Name        -8958.1131   3330.768     -2.690      0.008   -1.56e+04   -2344.795\n",
      "Vendor_Name_square   249.9808    106.975      2.337      0.022      37.578     462.383\n",
      "AchoholTypes        1659.0686   2414.846      0.687      0.494   -3135.665    6453.802\n",
      "==============================================================================\n",
      "Omnibus:                       45.832   Durbin-Watson:                   1.807\n",
      "Prob(Omnibus):                  0.000   Jarque-Bera (JB):              374.083\n",
      "Skew:                          -1.155   Prob(JB):                     5.87e-82\n",
      "Kurtosis:                      12.239   Cond. No.                     1.58e+05\n",
      "==============================================================================\n",
      "\n",
      "Warnings:\n",
      "[1] Standard Errors assume that the covariance matrix of the errors is correctly specified.\n",
      "[2] The condition number is large, 1.58e+05. This might indicate that there are\n",
      "strong multicollinearity or other numerical problems.\n"
     ]
    }
   ],
   "source": [
    "dep = liquor_2016_county['Sale_Dollars']\n",
    "indep = liquor_2016_county[['Volume_Sold_Litres','Vendor_Name','Vendor_Name_square','AchoholTypes']]\n",
    "indep = sm.add_constant(indep)\n",
    "model = sm.OLS(dep,indep)\n",
    "results = model.fit()\n",
    "print(results.summary())"
   ]
  },
  {
   "cell_type": "raw",
   "metadata": {},
   "source": [
    "# Discard Model 6 and Model 7\n",
    "Large P value of 'AlcoholTypes' suggest it is insignificant\n"
   ]
  },
  {
   "cell_type": "code",
   "execution_count": 89,
   "metadata": {},
   "outputs": [
    {
     "data": {
      "text/html": [
       "<div>\n",
       "<style scoped>\n",
       "    .dataframe tbody tr th:only-of-type {\n",
       "        vertical-align: middle;\n",
       "    }\n",
       "\n",
       "    .dataframe tbody tr th {\n",
       "        vertical-align: top;\n",
       "    }\n",
       "\n",
       "    .dataframe thead th {\n",
       "        text-align: right;\n",
       "    }\n",
       "</style>\n",
       "<table border=\"1\" class=\"dataframe\">\n",
       "  <thead>\n",
       "    <tr style=\"text-align: right;\">\n",
       "      <th></th>\n",
       "      <th>County</th>\n",
       "      <th>GDP_2015</th>\n",
       "      <th>GDP_2016</th>\n",
       "      <th>GDP_2017</th>\n",
       "      <th>GDP_2018</th>\n",
       "      <th>GDP_2019</th>\n",
       "      <th>GDP_2020</th>\n",
       "    </tr>\n",
       "  </thead>\n",
       "  <tbody>\n",
       "    <tr>\n",
       "      <th>0</th>\n",
       "      <td>Adair</td>\n",
       "      <td>328347.0</td>\n",
       "      <td>315310.0</td>\n",
       "      <td>319374.0</td>\n",
       "      <td>324537.0</td>\n",
       "      <td>323267.00</td>\n",
       "      <td>327189.33</td>\n",
       "    </tr>\n",
       "    <tr>\n",
       "      <th>1</th>\n",
       "      <td>Adams</td>\n",
       "      <td>283787.0</td>\n",
       "      <td>302511.0</td>\n",
       "      <td>280320.0</td>\n",
       "      <td>296386.0</td>\n",
       "      <td>300585.67</td>\n",
       "      <td>295744.22</td>\n",
       "    </tr>\n",
       "    <tr>\n",
       "      <th>2</th>\n",
       "      <td>Allamakee</td>\n",
       "      <td>571989.0</td>\n",
       "      <td>593313.0</td>\n",
       "      <td>544488.0</td>\n",
       "      <td>541503.0</td>\n",
       "      <td>531341.00</td>\n",
       "      <td>520845.67</td>\n",
       "    </tr>\n",
       "    <tr>\n",
       "      <th>3</th>\n",
       "      <td>Appanoose</td>\n",
       "      <td>357330.0</td>\n",
       "      <td>359058.0</td>\n",
       "      <td>358792.0</td>\n",
       "      <td>348067.0</td>\n",
       "      <td>344979.33</td>\n",
       "      <td>343374.11</td>\n",
       "    </tr>\n",
       "    <tr>\n",
       "      <th>4</th>\n",
       "      <td>Audubon</td>\n",
       "      <td>245856.0</td>\n",
       "      <td>236395.0</td>\n",
       "      <td>249683.0</td>\n",
       "      <td>249566.0</td>\n",
       "      <td>250802.67</td>\n",
       "      <td>254368.56</td>\n",
       "    </tr>\n",
       "  </tbody>\n",
       "</table>\n",
       "</div>"
      ],
      "text/plain": [
       "      County  GDP_2015  GDP_2016  GDP_2017  GDP_2018   GDP_2019   GDP_2020\n",
       "0      Adair  328347.0  315310.0  319374.0  324537.0  323267.00  327189.33\n",
       "1      Adams  283787.0  302511.0  280320.0  296386.0  300585.67  295744.22\n",
       "2  Allamakee  571989.0  593313.0  544488.0  541503.0  531341.00  520845.67\n",
       "3  Appanoose  357330.0  359058.0  358792.0  348067.0  344979.33  343374.11\n",
       "4    Audubon  245856.0  236395.0  249683.0  249566.0  250802.67  254368.56"
      ]
     },
     "execution_count": 89,
     "metadata": {},
     "output_type": "execute_result"
    }
   ],
   "source": [
    "iowa_gdp = pandas.read_csv('C:\\\\Users\\\\shiva\\\\Desktop\\\\DPA\\\\iowa_gdp.csv')\n",
    "iowa_gdp.head()"
   ]
  },
  {
   "cell_type": "code",
   "execution_count": 88,
   "metadata": {},
   "outputs": [],
   "source": [
    "liquor_2016_county=pandas.merge(liquor_2016_county,iowa_gdp[['County','GDP_2016']], on='County')"
   ]
  },
  {
   "cell_type": "code",
   "execution_count": 90,
   "metadata": {},
   "outputs": [
    {
     "data": {
      "text/plain": [
       "<seaborn.axisgrid.JointGrid at 0x28d14ea9278>"
      ]
     },
     "execution_count": 90,
     "metadata": {},
     "output_type": "execute_result"
    },
    {
     "data": {
      "image/png": "[encoded data removed]",
      "text/plain": [
       "<Figure size 432x432 with 3 Axes>"
      ]
     },
     "metadata": {
      "needs_background": "light"
     },
     "output_type": "display_data"
    }
   ],
   "source": [
    "\n",
    "sns.jointplot(x=(liquor_2016_county['GDP_2016']), y=liquor_2016_county['Sale_Dollars'],kind='scatter')\n",
    "#plt.show()"
   ]
  },
  {
   "cell_type": "markdown",
   "metadata": {},
   "source": [
    "# Model 8: Using 'Volume_Sold_Litres','Vendor_Name' and 'GDP_2016' to predict 'Sale_Dollars'"
   ]
  },
  {
   "cell_type": "code",
   "execution_count": 92,
   "metadata": {},
   "outputs": [
    {
     "name": "stdout",
     "output_type": "stream",
     "text": [
      "                            OLS Regression Results                            \n",
      "==============================================================================\n",
      "Dep. Variable:           Sale_Dollars   R-squared:                       0.998\n",
      "Model:                            OLS   Adj. R-squared:                  0.998\n",
      "Method:                 Least Squares   F-statistic:                 1.940e+04\n",
      "Date:                Sun, 19 Apr 2020   Prob (F-statistic):          4.42e-131\n",
      "Time:                        21:52:06   Log-Likelihood:                -1091.1\n",
      "No. Observations:                  98   AIC:                             2190.\n",
      "Df Residuals:                      94   BIC:                             2201.\n",
      "Df Model:                           3                                         \n",
      "Covariance Type:            nonrobust                                         \n",
      "======================================================================================\n",
      "                         coef    std err          t      P>|t|      [0.025      0.975]\n",
      "--------------------------------------------------------------------------------------\n",
      "const              -3548.8874   6135.069     -0.578      0.564   -1.57e+04    8632.435\n",
      "GDP_2016               0.0185      0.002      7.804      0.000       0.014       0.023\n",
      "Vendor_Name         -858.6670    521.143     -1.648      0.103   -1893.409     176.075\n",
      "Volume_Sold_Litres    14.6940      0.458     32.110      0.000      13.785      15.603\n",
      "==============================================================================\n",
      "Omnibus:                       70.959   Durbin-Watson:                   2.268\n",
      "Prob(Omnibus):                  0.000   Jarque-Bera (JB):              827.888\n",
      "Skew:                          -1.999   Prob(JB):                    1.68e-180\n",
      "Kurtosis:                      16.666   Cond. No.                     1.61e+07\n",
      "==============================================================================\n",
      "\n",
      "Warnings:\n",
      "[1] Standard Errors assume that the covariance matrix of the errors is correctly specified.\n",
      "[2] The condition number is large, 1.61e+07. This might indicate that there are\n",
      "strong multicollinearity or other numerical problems.\n"
     ]
    }
   ],
   "source": [
    "dep = liquor_2016_county['Sale_Dollars']\n",
    "indep = liquor_2016_county[['GDP_2016','Vendor_Name','Volume_Sold_Litres']]\n",
    "indep = sm.add_constant(indep)\n",
    "model = sm.OLS(dep,indep)\n",
    "results = model.fit()\n",
    "print(results.summary())"
   ]
  },
  {
   "cell_type": "raw",
   "metadata": {},
   "source": [
    "#Model 8 is discarded\n",
    "Since adding 'GDP_2016' enlarges P-value for 'Vendor_Name'"
   ]
  },
  {
   "cell_type": "markdown",
   "metadata": {},
   "source": [
    "# Model 9: Using 'Volume_Sold_Litres','Vendor_Name','Vendor_Name_square' and 'GDP_2016' to predict 'Sale_Dollars'"
   ]
  },
  {
   "cell_type": "code",
   "execution_count": 203,
   "metadata": {},
   "outputs": [
    {
     "name": "stdout",
     "output_type": "stream",
     "text": [
      "                            OLS Regression Results                            \n",
      "==============================================================================\n",
      "Dep. Variable:           Sale_Dollars   R-squared:                       0.999\n",
      "Model:                            OLS   Adj. R-squared:                  0.998\n",
      "Method:                 Least Squares   F-statistic:                 1.575e+04\n",
      "Date:                Mon, 20 Apr 2020   Prob (F-statistic):          1.03e-130\n",
      "Time:                        02:03:34   Log-Likelihood:                -1086.7\n",
      "No. Observations:                  98   AIC:                             2183.\n",
      "Df Residuals:                      93   BIC:                             2196.\n",
      "Df Model:                           4                                         \n",
      "Covariance Type:            nonrobust                                         \n",
      "======================================================================================\n",
      "                         coef    std err          t      P>|t|      [0.025      0.975]\n",
      "--------------------------------------------------------------------------------------\n",
      "const               2.195e+04   1.05e+04      2.101      0.038    1199.834    4.27e+04\n",
      "GDP_2016               0.0182      0.002      8.000      0.000       0.014       0.023\n",
      "Vendor_Name        -5284.1783   1578.896     -3.347      0.001   -8419.553   -2148.803\n",
      "Volume_Sold_Litres    14.3785      0.453     31.766      0.000      13.480      15.277\n",
      "Vendor_Name_square   183.3476     62.034      2.956      0.004      60.161     306.534\n",
      "==============================================================================\n",
      "Omnibus:                       65.643   Durbin-Watson:                   2.426\n",
      "Prob(Omnibus):                  0.000   Jarque-Bera (JB):              489.398\n",
      "Skew:                          -1.991   Prob(JB):                    5.35e-107\n",
      "Kurtosis:                      13.198   Cond. No.                     2.88e+07\n",
      "==============================================================================\n",
      "\n",
      "Warnings:\n",
      "[1] Standard Errors assume that the covariance matrix of the errors is correctly specified.\n",
      "[2] The condition number is large, 2.88e+07. This might indicate that there are\n",
      "strong multicollinearity or other numerical problems.\n"
     ]
    },
    {
     "name": "stderr",
     "output_type": "stream",
     "text": [
      "C:\\Users\\shiva\\Anaconda3\\lib\\site-packages\\numpy\\core\\fromnumeric.py:2389: FutureWarning: Method .ptp is deprecated and will be removed in a future version. Use numpy.ptp instead.\n",
      "  return ptp(axis=axis, out=out, **kwargs)\n"
     ]
    }
   ],
   "source": [
    "dep = liquor_2016_county['Sale_Dollars']\n",
    "indep = liquor_2016_county[['GDP_2016','Vendor_Name','Volume_Sold_Litres','Vendor_Name_square']]\n",
    "indep = sm.add_constant(indep)\n",
    "model = sm.OLS(dep,indep)\n",
    "results = model.fit()\n",
    "print(results.summary())numpy.sum(new_y_pred)"
   ]
  },
  {
   "cell_type": "code",
   "execution_count": 204,
   "metadata": {},
   "outputs": [],
   "source": [
    "X_train, X_test, y_train, y_test = train_test_split(indep, dep, test_size=0.3, random_state=1)"
   ]
  },
  {
   "cell_type": "code",
   "execution_count": 205,
   "metadata": {},
   "outputs": [
    {
     "name": "stdout",
     "output_type": "stream",
     "text": [
      "[ 3.43514300e+06  1.56347040e+06  1.15887619e+06  9.77048683e+05\n",
      "  9.11137774e+05  5.34978201e+05  5.15024357e+05  5.10599562e+05\n",
      "  5.17860664e+05  3.39239113e+05  3.11808184e+05  2.70520627e+05\n",
      "  2.46829253e+05  1.84260483e+05  2.08436611e+05  1.88314051e+05\n",
      "  1.91410119e+05  1.80136508e+05  1.10923415e+05  9.33066378e+04\n",
      "  9.08498682e+04  9.81558657e+04  9.75419015e+04  8.45469843e+04\n",
      "  1.11469074e+05  8.60384867e+04  8.44005589e+04  8.88568859e+04\n",
      "  7.89614422e+04  7.80734124e+04  7.46613039e+04  7.06546979e+04\n",
      "  6.84783964e+04  7.41634581e+04  8.47449021e+04  7.48086130e+04\n",
      "  6.43016066e+04  6.95964729e+04  6.79138055e+04  7.16429143e+04\n",
      "  5.59479386e+04  5.61904078e+04  5.13374236e+04  4.64725850e+04\n",
      "  4.86307516e+04  4.18376348e+04  4.48481316e+04  4.61045387e+04\n",
      "  3.85847677e+04  4.45428414e+04  4.49604547e+04  3.61568231e+04\n",
      "  2.76894848e+04  3.60290221e+04  3.10474733e+04  2.31334699e+04\n",
      "  2.27193765e+04  3.27596376e+04  3.53940762e+04  2.44516073e+04\n",
      "  2.52123221e+04  2.05343383e+04  2.81293979e+04  2.13737282e+04\n",
      "  1.97557571e+04  2.82281222e+04  2.59316559e+04  1.89307024e+04\n",
      "  3.34356763e+04  1.53534941e+04  1.87492386e+04  3.18522950e+04\n",
      "  2.97479166e+04  2.18893674e+04  2.60340741e+04  1.81507426e+04\n",
      "  1.35827186e+04  1.46167574e+04  2.31568056e+04  2.00626256e+04\n",
      "  2.73544713e+04  1.15765744e+04  3.14782545e+04  1.84173417e+04\n",
      "  1.59251434e+04  1.93114619e+04  5.95843911e+03  2.61775695e+03\n",
      "  1.15606757e+04  1.69486307e+02  5.17874484e+03  6.15866378e+03\n",
      "  1.05517011e+04  1.05354396e+04 -4.06331182e+03  1.44642532e+04\n",
      "  9.45031922e+03  3.01916703e+04]\n"
     ]
    }
   ],
   "source": [
    "lm = LinearRegression()\n",
    "lm.fit(X_train, y_train)\n",
    "y_pred = lm.predict(indep)\n",
    "print(y_pred)"
   ]
  },
  {
   "cell_type": "code",
   "execution_count": 206,
   "metadata": {},
   "outputs": [
    {
     "name": "stdout",
     "output_type": "stream",
     "text": [
      "[0.99643734 0.9501046  0.62323918 0.9948459  0.97313578]\n",
      "0.9075525608737989\n"
     ]
    }
   ],
   "source": [
    "scores = cross_val_score(lm, X_test, y_test, cv=5)\n",
    "print(scores)\n",
    "print(numpy.mean(scores))"
   ]
  },
  {
   "cell_type": "code",
   "execution_count": 207,
   "metadata": {},
   "outputs": [
    {
     "name": "stdout",
     "output_type": "stream",
     "text": [
      "0.9984512404540846\n",
      "263561830.56326795\n",
      "10083.794440599324\n",
      "16234.587477458981\n"
     ]
    },
    {
     "data": {
      "image/png": "[encoded data removed]",
      "text/plain": [
       "<Figure size 432x288 with 1 Axes>"
      ]
     },
     "metadata": {
      "needs_background": "light"
     },
     "output_type": "display_data"
    }
   ],
   "source": [
    "plt.scatter(dep, y_pred, marker='+', color='r')\n",
    "plt.xlabel(\"True Values\")\n",
    "plt.ylabel(\"Predictions\")\n",
    "accuracy = metrics.r2_score(dep, y_pred)\n",
    "mse= metrics.mean_squared_error(dep, y_pred)\n",
    "mae=metrics.mean_absolute_error(dep,y_pred)\n",
    "rmse=numpy.sqrt(metrics.mean_squared_error(dep, y_pred))\n",
    "print(accuracy)\n",
    "print(mse)\n",
    "print(mae)\n",
    "print(rmse)"
   ]
  },
  {
   "cell_type": "code",
   "execution_count": 208,
   "metadata": {},
   "outputs": [
    {
     "data": {
      "text/plain": [
       "15551572.085220024"
      ]
     },
     "execution_count": 208,
     "metadata": {},
     "output_type": "execute_result"
    }
   ],
   "source": [
    "# Annual Predicted Sales for 2016\n",
    "numpy.sum(new_y_pred)"
   ]
  },
  {
   "cell_type": "code",
   "execution_count": 114,
   "metadata": {},
   "outputs": [
    {
     "name": "stdout",
     "output_type": "stream",
     "text": [
      "0.14529416344275237\n"
     ]
    }
   ],
   "source": [
    "# Error for Annual Predicted Sales for 2016\n",
    "Percent_Prediction_Error = (numpy.sum(liquor_2016_county['Sale_Dollars'])- numpy.sum(y_pred))/numpy.sum(liquor_2016_county['Sale_Dollars'])*100\n",
    "print(Percent_Prediction_Error)"
   ]
  },
  {
   "cell_type": "raw",
   "metadata": {},
   "source": [
    "# For Model 9:\n",
    "R-squared: 0.999\n",
    "Adj. R-squared: 0.998\n",
    "Mean Cross Validation Score: 0.9075525608737989\n",
    "Accuracy: 0.9984512404540846\n",
    "Mean Squared Error: 263561830.56326795\n",
    "Mean Absolute Error: 10083.794440599324\n",
    "Root Mean Squared Error: 16234.587477458981"
   ]
  },
  {
   "cell_type": "code",
   "execution_count": 115,
   "metadata": {},
   "outputs": [],
   "source": [
    "# Get county wise sales for 017\n",
    "liquor_2017 = liquor[liquor['Year']==2017]"
   ]
  },
  {
   "cell_type": "code",
   "execution_count": 116,
   "metadata": {},
   "outputs": [],
   "source": [
    "liquor_2017_County_volume = liquor_2017.groupby(['County'])['Volume_Sold_Litres'].sum().to_frame().sort_values('Volume_Sold_Litres', ascending=0)\n",
    "\n",
    "# resetting the index\n",
    "liquor_2017_County_volume['County'] = liquor_2017_County_volume.index\n",
    "\n",
    "liquor_2017_County_volume.index = range(0, len(liquor_2017_County_volume))"
   ]
  },
  {
   "cell_type": "code",
   "execution_count": 117,
   "metadata": {},
   "outputs": [],
   "source": [
    "liquor_2017_County_sales = liquor_2017.groupby(['County'])['Sale_Dollars'].sum().to_frame().sort_values('Sale_Dollars', ascending=0)\n",
    "\n",
    "# resetting the index\n",
    "liquor_2017_County_sales['County'] = liquor_2017_County_sales.index\n",
    "\n",
    "liquor_2017_County_sales.index = range(0, len(liquor_2017_County_sales))"
   ]
  },
  {
   "cell_type": "code",
   "execution_count": 118,
   "metadata": {},
   "outputs": [],
   "source": [
    "liquor_2017_County_Brand_count = liquor_2017.groupby(['County'])['Vendor_Name'].nunique().to_frame().sort_values('Vendor_Name', ascending=0)\n",
    "\n",
    "# resetting the index\n",
    "liquor_2017_County_Brand_count['County'] = liquor_2017_County_Brand_count.index\n",
    "\n",
    "liquor_2017_County_Brand_count.index = range(0, len(liquor_2017_County_Brand_count))"
   ]
  },
  {
   "cell_type": "code",
   "execution_count": 119,
   "metadata": {},
   "outputs": [
    {
     "data": {
      "text/html": [
       "<div>\n",
       "<style scoped>\n",
       "    .dataframe tbody tr th:only-of-type {\n",
       "        vertical-align: middle;\n",
       "    }\n",
       "\n",
       "    .dataframe tbody tr th {\n",
       "        vertical-align: top;\n",
       "    }\n",
       "\n",
       "    .dataframe thead th {\n",
       "        text-align: right;\n",
       "    }\n",
       "</style>\n",
       "<table border=\"1\" class=\"dataframe\">\n",
       "  <thead>\n",
       "    <tr style=\"text-align: right;\">\n",
       "      <th></th>\n",
       "      <th>Volume_Sold_Litres</th>\n",
       "      <th>County</th>\n",
       "      <th>Sale_Dollars</th>\n",
       "      <th>Vendor_Name</th>\n",
       "    </tr>\n",
       "  </thead>\n",
       "  <tbody>\n",
       "    <tr>\n",
       "      <th>0</th>\n",
       "      <td>197837.64</td>\n",
       "      <td>Polk</td>\n",
       "      <td>3.634993e+06</td>\n",
       "      <td>30</td>\n",
       "    </tr>\n",
       "    <tr>\n",
       "      <th>1</th>\n",
       "      <td>90265.34</td>\n",
       "      <td>Linn</td>\n",
       "      <td>1.489447e+06</td>\n",
       "      <td>23</td>\n",
       "    </tr>\n",
       "    <tr>\n",
       "      <th>2</th>\n",
       "      <td>68391.68</td>\n",
       "      <td>Scott</td>\n",
       "      <td>1.099537e+06</td>\n",
       "      <td>19</td>\n",
       "    </tr>\n",
       "    <tr>\n",
       "      <th>3</th>\n",
       "      <td>53542.03</td>\n",
       "      <td>Johnson</td>\n",
       "      <td>9.315255e+05</td>\n",
       "      <td>27</td>\n",
       "    </tr>\n",
       "    <tr>\n",
       "      <th>4</th>\n",
       "      <td>52405.00</td>\n",
       "      <td>Black Hawk</td>\n",
       "      <td>9.024242e+05</td>\n",
       "      <td>20</td>\n",
       "    </tr>\n",
       "  </tbody>\n",
       "</table>\n",
       "</div>"
      ],
      "text/plain": [
       "   Volume_Sold_Litres      County  Sale_Dollars  Vendor_Name\n",
       "0           197837.64        Polk  3.634993e+06           30\n",
       "1            90265.34        Linn  1.489447e+06           23\n",
       "2            68391.68       Scott  1.099537e+06           19\n",
       "3            53542.03     Johnson  9.315255e+05           27\n",
       "4            52405.00  Black Hawk  9.024242e+05           20"
      ]
     },
     "execution_count": 119,
     "metadata": {},
     "output_type": "execute_result"
    }
   ],
   "source": [
    "liquor_2017_county = pandas.merge(liquor_2017_County_volume, liquor_2017_County_sales, how='inner', on='County')\n",
    "liquor_2017_county = pandas.merge(liquor_2017_county, liquor_2017_County_Brand_count, how='inner', on='County')\n",
    "liquor_2017_county.head()"
   ]
  },
  {
   "cell_type": "code",
   "execution_count": 120,
   "metadata": {},
   "outputs": [],
   "source": [
    "liquor_2017_county['Vendor_Name_square']= liquor_2017_county['Vendor_Name']**2\n"
   ]
  },
  {
   "cell_type": "code",
   "execution_count": 122,
   "metadata": {},
   "outputs": [],
   "source": [
    "liquor_2017_county=pandas.merge(liquor_2017_county,iowa_gdp[['County','GDP_2017']], on='County')"
   ]
  },
  {
   "cell_type": "code",
   "execution_count": 123,
   "metadata": {},
   "outputs": [
    {
     "data": {
      "text/html": [
       "<div>\n",
       "<style scoped>\n",
       "    .dataframe tbody tr th:only-of-type {\n",
       "        vertical-align: middle;\n",
       "    }\n",
       "\n",
       "    .dataframe tbody tr th {\n",
       "        vertical-align: top;\n",
       "    }\n",
       "\n",
       "    .dataframe thead th {\n",
       "        text-align: right;\n",
       "    }\n",
       "</style>\n",
       "<table border=\"1\" class=\"dataframe\">\n",
       "  <thead>\n",
       "    <tr style=\"text-align: right;\">\n",
       "      <th></th>\n",
       "      <th>Volume_Sold_Litres</th>\n",
       "      <th>County</th>\n",
       "      <th>Sale_Dollars</th>\n",
       "      <th>Vendor_Name</th>\n",
       "      <th>Vendor_Name_square</th>\n",
       "      <th>GDP_2017</th>\n",
       "    </tr>\n",
       "  </thead>\n",
       "  <tbody>\n",
       "    <tr>\n",
       "      <th>0</th>\n",
       "      <td>197837.64</td>\n",
       "      <td>Polk</td>\n",
       "      <td>3.634993e+06</td>\n",
       "      <td>30</td>\n",
       "      <td>900</td>\n",
       "      <td>36211368.0</td>\n",
       "    </tr>\n",
       "    <tr>\n",
       "      <th>1</th>\n",
       "      <td>90265.34</td>\n",
       "      <td>Linn</td>\n",
       "      <td>1.489447e+06</td>\n",
       "      <td>23</td>\n",
       "      <td>529</td>\n",
       "      <td>15560368.0</td>\n",
       "    </tr>\n",
       "    <tr>\n",
       "      <th>2</th>\n",
       "      <td>68391.68</td>\n",
       "      <td>Scott</td>\n",
       "      <td>1.099537e+06</td>\n",
       "      <td>19</td>\n",
       "      <td>361</td>\n",
       "      <td>8012364.0</td>\n",
       "    </tr>\n",
       "    <tr>\n",
       "      <th>3</th>\n",
       "      <td>53542.03</td>\n",
       "      <td>Johnson</td>\n",
       "      <td>9.315255e+05</td>\n",
       "      <td>27</td>\n",
       "      <td>729</td>\n",
       "      <td>8281109.0</td>\n",
       "    </tr>\n",
       "    <tr>\n",
       "      <th>4</th>\n",
       "      <td>52405.00</td>\n",
       "      <td>Black Hawk</td>\n",
       "      <td>9.024242e+05</td>\n",
       "      <td>20</td>\n",
       "      <td>400</td>\n",
       "      <td>6895327.0</td>\n",
       "    </tr>\n",
       "  </tbody>\n",
       "</table>\n",
       "</div>"
      ],
      "text/plain": [
       "   Volume_Sold_Litres      County  Sale_Dollars  Vendor_Name  \\\n",
       "0           197837.64        Polk  3.634993e+06           30   \n",
       "1            90265.34        Linn  1.489447e+06           23   \n",
       "2            68391.68       Scott  1.099537e+06           19   \n",
       "3            53542.03     Johnson  9.315255e+05           27   \n",
       "4            52405.00  Black Hawk  9.024242e+05           20   \n",
       "\n",
       "   Vendor_Name_square    GDP_2017  \n",
       "0                 900  36211368.0  \n",
       "1                 529  15560368.0  \n",
       "2                 361   8012364.0  \n",
       "3                 729   8281109.0  \n",
       "4                 400   6895327.0  "
      ]
     },
     "execution_count": 123,
     "metadata": {},
     "output_type": "execute_result"
    }
   ],
   "source": [
    "liquor_2017_county.head()"
   ]
  },
  {
   "cell_type": "code",
   "execution_count": 124,
   "metadata": {},
   "outputs": [
    {
     "name": "stderr",
     "output_type": "stream",
     "text": [
      "C:\\Users\\shiva\\Anaconda3\\lib\\site-packages\\numpy\\core\\fromnumeric.py:2389: FutureWarning: Method .ptp is deprecated and will be removed in a future version. Use numpy.ptp instead.\n",
      "  return ptp(axis=axis, out=out, **kwargs)\n"
     ]
    }
   ],
   "source": [
    "new_dep=liquor_2017_county['Sale_Dollars']\n",
    "new_indep = liquor_2017_county[['Volume_Sold_Litres','Vendor_Name','Vendor_Name_square','GDP_2017']]\n",
    "new_indep = sm.add_constant(new_indep)"
   ]
  },
  {
   "cell_type": "code",
   "execution_count": 126,
   "metadata": {},
   "outputs": [],
   "source": [
    "#from Model 9\n",
    "b_const    =           2.195e+04   \n",
    "b_GDP_2016  =             0.0182      \n",
    "b_Vendor_Name =       -5284.1783   \n",
    "b_Volume_Sold_Litres =   14.3785      \n",
    "b_Vendor_Name_square =  183.3476"
   ]
  },
  {
   "cell_type": "code",
   "execution_count": 209,
   "metadata": {},
   "outputs": [],
   "source": [
    "# Predict sales for 2017\n",
    "new_y_pred =b_const + b_GDP_2016*liquor_2017_county['GDP_2017'] + b_Vendor_Name*liquor_2017_county['Vendor_Name'] + b_Volume_Sold_Litres*liquor_2017_county['Volume_Sold_Litres'] + b_Vendor_Name_square*liquor_2017_county['Vendor_Name_square'] "
   ]
  },
  {
   "cell_type": "code",
   "execution_count": 210,
   "metadata": {},
   "outputs": [
    {
     "data": {
      "text/plain": [
       "15551572.085220024"
      ]
     },
     "execution_count": 210,
     "metadata": {},
     "output_type": "execute_result"
    }
   ],
   "source": [
    "# Annual Predicted Sales for 2017\n",
    "numpy.sum(new_y_pred)"
   ]
  },
  {
   "cell_type": "code",
   "execution_count": 145,
   "metadata": {},
   "outputs": [
    {
     "name": "stdout",
     "output_type": "stream",
     "text": [
      "0.9979246459725376\n"
     ]
    }
   ],
   "source": [
    "# Accuracy for Annual Predicted Sales for 2017\n",
    "accuracy=metrics.r2_score(liquor_2017_county['Sale_Dollars'], new_y_pred)\n",
    "print(accuracy)"
   ]
  },
  {
   "cell_type": "code",
   "execution_count": 146,
   "metadata": {},
   "outputs": [
    {
     "name": "stdout",
     "output_type": "stream",
     "text": [
      "-0.19983887987346863\n"
     ]
    }
   ],
   "source": [
    "# Error for Annual Predicted Sales for 2017\n",
    "Percent_Prediction_Error=(numpy.sum(liquor_2017_county['Sale_Dollars'])-numpy.sum(new_y_pred))/numpy.sum(liquor_2017_county['Sale_Dollars']) * 100\n",
    "print(Percent_Prediction_Error)"
   ]
  },
  {
   "cell_type": "code",
   "execution_count": 139,
   "metadata": {},
   "outputs": [
    {
     "data": {
      "text/html": [
       "<div>\n",
       "<style scoped>\n",
       "    .dataframe tbody tr th:only-of-type {\n",
       "        vertical-align: middle;\n",
       "    }\n",
       "\n",
       "    .dataframe tbody tr th {\n",
       "        vertical-align: top;\n",
       "    }\n",
       "\n",
       "    .dataframe thead th {\n",
       "        text-align: right;\n",
       "    }\n",
       "</style>\n",
       "<table border=\"1\" class=\"dataframe\">\n",
       "  <thead>\n",
       "    <tr style=\"text-align: right;\">\n",
       "      <th></th>\n",
       "      <th>Volume_Sold_Litres</th>\n",
       "      <th>County</th>\n",
       "      <th>Sale_Dollars</th>\n",
       "      <th>Vendor_Name</th>\n",
       "      <th>GDP_2018</th>\n",
       "      <th>Vendor_Name_square</th>\n",
       "    </tr>\n",
       "  </thead>\n",
       "  <tbody>\n",
       "    <tr>\n",
       "      <th>0</th>\n",
       "      <td>222781.02</td>\n",
       "      <td>Polk</td>\n",
       "      <td>4.133026e+06</td>\n",
       "      <td>32</td>\n",
       "      <td>36757721.0</td>\n",
       "      <td>1024</td>\n",
       "    </tr>\n",
       "    <tr>\n",
       "      <th>1</th>\n",
       "      <td>93096.93</td>\n",
       "      <td>Linn</td>\n",
       "      <td>1.527635e+06</td>\n",
       "      <td>23</td>\n",
       "      <td>15957005.0</td>\n",
       "      <td>529</td>\n",
       "    </tr>\n",
       "    <tr>\n",
       "      <th>2</th>\n",
       "      <td>79805.41</td>\n",
       "      <td>Scott</td>\n",
       "      <td>1.311990e+06</td>\n",
       "      <td>22</td>\n",
       "      <td>8208858.0</td>\n",
       "      <td>484</td>\n",
       "    </tr>\n",
       "    <tr>\n",
       "      <th>3</th>\n",
       "      <td>65739.73</td>\n",
       "      <td>Black Hawk</td>\n",
       "      <td>1.135416e+06</td>\n",
       "      <td>25</td>\n",
       "      <td>7115887.0</td>\n",
       "      <td>625</td>\n",
       "    </tr>\n",
       "    <tr>\n",
       "      <th>4</th>\n",
       "      <td>57405.36</td>\n",
       "      <td>Johnson</td>\n",
       "      <td>9.962057e+05</td>\n",
       "      <td>27</td>\n",
       "      <td>8385942.0</td>\n",
       "      <td>729</td>\n",
       "    </tr>\n",
       "  </tbody>\n",
       "</table>\n",
       "</div>"
      ],
      "text/plain": [
       "   Volume_Sold_Litres      County  Sale_Dollars  Vendor_Name    GDP_2018  \\\n",
       "0           222781.02        Polk  4.133026e+06           32  36757721.0   \n",
       "1            93096.93        Linn  1.527635e+06           23  15957005.0   \n",
       "2            79805.41       Scott  1.311990e+06           22   8208858.0   \n",
       "3            65739.73  Black Hawk  1.135416e+06           25   7115887.0   \n",
       "4            57405.36     Johnson  9.962057e+05           27   8385942.0   \n",
       "\n",
       "   Vendor_Name_square  \n",
       "0                1024  \n",
       "1                 529  \n",
       "2                 484  \n",
       "3                 625  \n",
       "4                 729  "
      ]
     },
     "execution_count": 139,
     "metadata": {},
     "output_type": "execute_result"
    }
   ],
   "source": [
    "#Get County wise Data for 2018\n",
    "\n",
    "liquor_2018 = liquor[liquor['Year']==2018]\n",
    "liquor_2018_County_volume = liquor_2018.groupby(['County'])['Volume_Sold_Litres'].sum().to_frame().sort_values('Volume_Sold_Litres', ascending=0)\n",
    "\n",
    "# resetting the index\n",
    "liquor_2018_County_volume['County'] = liquor_2018_County_volume.index\n",
    "\n",
    "liquor_2018_County_volume.index = range(0, len(liquor_2018_County_volume))\n",
    "\n",
    "\n",
    "liquor_2018_County_Brand_count = liquor_2018.groupby(['County'])['Vendor_Name'].nunique().to_frame().sort_values('Vendor_Name', ascending=0)\n",
    "\n",
    "# resetting the index\n",
    "liquor_2018_County_Brand_count['County'] = liquor_2018_County_Brand_count.index\n",
    "\n",
    "liquor_2018_County_Brand_count.index = range(0, len(liquor_2018_County_Brand_count))\n",
    "\n",
    "\n",
    "liquor_2018_County_sales = liquor_2018.groupby(['County'])['Sale_Dollars'].sum().to_frame().sort_values('Sale_Dollars', ascending=0)\n",
    "\n",
    "# resetting the index\n",
    "liquor_2018_County_sales['County'] = liquor_2018_County_sales.index\n",
    "\n",
    "liquor_2018_County_sales.index = range(0, len(liquor_2018_County_sales))\n",
    "\n",
    "\n",
    "liquor_2018_county = pandas.merge(liquor_2018_County_volume, liquor_2018_County_sales, how='inner', on='County')\n",
    "liquor_2018_county = pandas.merge(liquor_2018_county, liquor_2018_County_Brand_count, how='inner', on='County')\n",
    "liquor_2018_county=pandas.merge(liquor_2018_county,iowa_gdp[['County','GDP_2018']], on='County')\n",
    "\n",
    "\n",
    "liquor_2018_county['Vendor_Name_square']= liquor_2018_county['Vendor_Name']**2\n",
    "liquor_2018_county.head()\n"
   ]
  },
  {
   "cell_type": "code",
   "execution_count": 199,
   "metadata": {},
   "outputs": [],
   "source": [
    "# Predict 2018 sales\n",
    "new_y_pred =b_const + b_GDP_2016*liquor_2018_county['GDP_2018'] + b_Vendor_Name*liquor_2018_county['Vendor_Name'] + b_Volume_Sold_Litres*liquor_2018_county['Volume_Sold_Litres'] + b_Vendor_Name_square*liquor_2018_county['Vendor_Name_square']\n"
   ]
  },
  {
   "cell_type": "code",
   "execution_count": 200,
   "metadata": {},
   "outputs": [
    {
     "data": {
      "text/plain": [
       "17113306.575035036"
      ]
     },
     "execution_count": 200,
     "metadata": {},
     "output_type": "execute_result"
    }
   ],
   "source": [
    "# Annual Predicted Sales 2018\n",
    "numpy.sum(new_y_pred)"
   ]
  },
  {
   "cell_type": "code",
   "execution_count": 150,
   "metadata": {},
   "outputs": [
    {
     "name": "stdout",
     "output_type": "stream",
     "text": [
      "0.9966757409195505\n"
     ]
    }
   ],
   "source": [
    "# Accuracy for Annual Predicted Sales 2018 \n",
    "accuracy = metrics.r2_score(liquor_2018_county['Sale_Dollars'], new_y_pred)\n",
    "print(accuracy)"
   ]
  },
  {
   "cell_type": "code",
   "execution_count": 151,
   "metadata": {},
   "outputs": [
    {
     "name": "stdout",
     "output_type": "stream",
     "text": [
      "0.827429947241557\n"
     ]
    }
   ],
   "source": [
    "# Error for Annual Predicted Sales 2018\n",
    "Percent_Prediction_Error=(numpy.sum(liquor_2018_county['Sale_Dollars'])-numpy.sum(new_y_pred))/numpy.sum(liquor_2018_county['Sale_Dollars']) * 100\n",
    "print(Percent_Prediction_Error)"
   ]
  },
  {
   "cell_type": "code",
   "execution_count": 152,
   "metadata": {},
   "outputs": [
    {
     "data": {
      "text/html": [
       "<div>\n",
       "<style scoped>\n",
       "    .dataframe tbody tr th:only-of-type {\n",
       "        vertical-align: middle;\n",
       "    }\n",
       "\n",
       "    .dataframe tbody tr th {\n",
       "        vertical-align: top;\n",
       "    }\n",
       "\n",
       "    .dataframe thead th {\n",
       "        text-align: right;\n",
       "    }\n",
       "</style>\n",
       "<table border=\"1\" class=\"dataframe\">\n",
       "  <thead>\n",
       "    <tr style=\"text-align: right;\">\n",
       "      <th></th>\n",
       "      <th>Volume_Sold_Litres</th>\n",
       "      <th>County</th>\n",
       "      <th>Sale_Dollars</th>\n",
       "      <th>Vendor_Name</th>\n",
       "      <th>GDP_2019</th>\n",
       "      <th>Vendor_Name_square</th>\n",
       "    </tr>\n",
       "  </thead>\n",
       "  <tbody>\n",
       "    <tr>\n",
       "      <th>0</th>\n",
       "      <td>207857.09</td>\n",
       "      <td>Polk</td>\n",
       "      <td>3895269.74</td>\n",
       "      <td>29</td>\n",
       "      <td>37111383.33</td>\n",
       "      <td>841</td>\n",
       "    </tr>\n",
       "    <tr>\n",
       "      <th>1</th>\n",
       "      <td>85981.71</td>\n",
       "      <td>Linn</td>\n",
       "      <td>1410013.17</td>\n",
       "      <td>23</td>\n",
       "      <td>16086374.33</td>\n",
       "      <td>529</td>\n",
       "    </tr>\n",
       "    <tr>\n",
       "      <th>2</th>\n",
       "      <td>71881.51</td>\n",
       "      <td>Scott</td>\n",
       "      <td>1196337.81</td>\n",
       "      <td>21</td>\n",
       "      <td>8225066.67</td>\n",
       "      <td>441</td>\n",
       "    </tr>\n",
       "    <tr>\n",
       "      <th>3</th>\n",
       "      <td>63262.73</td>\n",
       "      <td>Black Hawk</td>\n",
       "      <td>1114204.78</td>\n",
       "      <td>20</td>\n",
       "      <td>6999011.67</td>\n",
       "      <td>400</td>\n",
       "    </tr>\n",
       "    <tr>\n",
       "      <th>4</th>\n",
       "      <td>43626.93</td>\n",
       "      <td>Johnson</td>\n",
       "      <td>789579.03</td>\n",
       "      <td>24</td>\n",
       "      <td>8506429.67</td>\n",
       "      <td>576</td>\n",
       "    </tr>\n",
       "  </tbody>\n",
       "</table>\n",
       "</div>"
      ],
      "text/plain": [
       "   Volume_Sold_Litres      County  Sale_Dollars  Vendor_Name     GDP_2019  \\\n",
       "0           207857.09        Polk    3895269.74           29  37111383.33   \n",
       "1            85981.71        Linn    1410013.17           23  16086374.33   \n",
       "2            71881.51       Scott    1196337.81           21   8225066.67   \n",
       "3            63262.73  Black Hawk    1114204.78           20   6999011.67   \n",
       "4            43626.93     Johnson     789579.03           24   8506429.67   \n",
       "\n",
       "   Vendor_Name_square  \n",
       "0                 841  \n",
       "1                 529  \n",
       "2                 441  \n",
       "3                 400  \n",
       "4                 576  "
      ]
     },
     "execution_count": 152,
     "metadata": {},
     "output_type": "execute_result"
    }
   ],
   "source": [
    "# Get County wise data for 2019\n",
    "\n",
    "liquor_2019 = liquor[liquor['Year']==2019]\n",
    "liquor_2019_County_volume = liquor_2019.groupby(['County'])['Volume_Sold_Litres'].sum().to_frame().sort_values('Volume_Sold_Litres', ascending=0)\n",
    "\n",
    "# resetting the index\n",
    "liquor_2019_County_volume['County'] = liquor_2019_County_volume.index\n",
    "\n",
    "liquor_2019_County_volume.index = range(0, len(liquor_2019_County_volume))\n",
    "\n",
    "\n",
    "liquor_2019_County_Brand_count = liquor_2019.groupby(['County'])['Vendor_Name'].nunique().to_frame().sort_values('Vendor_Name', ascending=0)\n",
    "\n",
    "# resetting the index\n",
    "liquor_2019_County_Brand_count['County'] = liquor_2019_County_Brand_count.index\n",
    "\n",
    "liquor_2019_County_Brand_count.index = range(0, len(liquor_2019_County_Brand_count))\n",
    "\n",
    "\n",
    "liquor_2019_County_sales = liquor_2019.groupby(['County'])['Sale_Dollars'].sum().to_frame().sort_values('Sale_Dollars', ascending=0)\n",
    "\n",
    "# resetting the index\n",
    "liquor_2019_County_sales['County'] = liquor_2019_County_sales.index\n",
    "\n",
    "liquor_2019_County_sales.index = range(0, len(liquor_2019_County_sales))\n",
    "\n",
    "\n",
    "liquor_2019_county = pandas.merge(liquor_2019_County_volume, liquor_2019_County_sales, how='inner', on='County')\n",
    "liquor_2019_county = pandas.merge(liquor_2019_county, liquor_2019_County_Brand_count, how='inner', on='County')\n",
    "liquor_2019_county=pandas.merge(liquor_2019_county,iowa_gdp[['County','GDP_2019']], on='County')\n",
    "\n",
    "\n",
    "liquor_2019_county['Vendor_Name_square']= liquor_2019_county['Vendor_Name']**2\n",
    "liquor_2019_county.head()\n"
   ]
  },
  {
   "cell_type": "code",
   "execution_count": 197,
   "metadata": {},
   "outputs": [],
   "source": [
    "# Predict 2019 sales\n",
    "\n",
    "new_y_pred =b_const + b_GDP_2016*liquor_2019_county['GDP_2019'] + b_Vendor_Name*liquor_2019_county['Vendor_Name'] + b_Volume_Sold_Litres*liquor_2019_county['Volume_Sold_Litres'] + b_Vendor_Name_square*liquor_2019_county['Vendor_Name_square']\n"
   ]
  },
  {
   "cell_type": "code",
   "execution_count": 198,
   "metadata": {},
   "outputs": [
    {
     "data": {
      "text/plain": [
       "16074694.356256025"
      ]
     },
     "execution_count": 198,
     "metadata": {},
     "output_type": "execute_result"
    }
   ],
   "source": [
    "# Annual Predicted 2019 sales\n",
    "numpy.sum(new_y_pred)"
   ]
  },
  {
   "cell_type": "code",
   "execution_count": 154,
   "metadata": {},
   "outputs": [
    {
     "name": "stdout",
     "output_type": "stream",
     "text": [
      "0.9960771167935109\n"
     ]
    }
   ],
   "source": [
    "# Accuracy for Annual Predicted 2019 sales\n",
    "accuracy = metrics.r2_score(liquor_2019_county['Sale_Dollars'], new_y_pred)\n",
    "print(accuracy)"
   ]
  },
  {
   "cell_type": "code",
   "execution_count": 155,
   "metadata": {},
   "outputs": [
    {
     "name": "stdout",
     "output_type": "stream",
     "text": [
      "0.8994280842784036\n"
     ]
    }
   ],
   "source": [
    "# Error for Annual Predicted 2019 sales\n",
    "Percent_Prediction_Error=(numpy.sum(liquor_2019_county['Sale_Dollars'])-numpy.sum(new_y_pred))/numpy.sum(liquor_2019_county['Sale_Dollars']) * 100\n",
    "print(Percent_Prediction_Error) "
   ]
  },
  {
   "cell_type": "code",
   "execution_count": 156,
   "metadata": {},
   "outputs": [
    {
     "data": {
      "text/html": [
       "<div>\n",
       "<style scoped>\n",
       "    .dataframe tbody tr th:only-of-type {\n",
       "        vertical-align: middle;\n",
       "    }\n",
       "\n",
       "    .dataframe tbody tr th {\n",
       "        vertical-align: top;\n",
       "    }\n",
       "\n",
       "    .dataframe thead th {\n",
       "        text-align: right;\n",
       "    }\n",
       "</style>\n",
       "<table border=\"1\" class=\"dataframe\">\n",
       "  <thead>\n",
       "    <tr style=\"text-align: right;\">\n",
       "      <th></th>\n",
       "      <th>Volume_Sold_Litres</th>\n",
       "      <th>County</th>\n",
       "      <th>Sale_Dollars</th>\n",
       "      <th>Vendor_Name</th>\n",
       "      <th>GDP_2020</th>\n",
       "      <th>Vendor_Name_square</th>\n",
       "    </tr>\n",
       "  </thead>\n",
       "  <tbody>\n",
       "    <tr>\n",
       "      <th>0</th>\n",
       "      <td>13335.36</td>\n",
       "      <td>Polk</td>\n",
       "      <td>245050.34</td>\n",
       "      <td>15</td>\n",
       "      <td>36898664.78</td>\n",
       "      <td>225</td>\n",
       "    </tr>\n",
       "    <tr>\n",
       "      <th>1</th>\n",
       "      <td>6593.87</td>\n",
       "      <td>Linn</td>\n",
       "      <td>104595.08</td>\n",
       "      <td>14</td>\n",
       "      <td>16074627.44</td>\n",
       "      <td>196</td>\n",
       "    </tr>\n",
       "    <tr>\n",
       "      <th>2</th>\n",
       "      <td>4209.96</td>\n",
       "      <td>Scott</td>\n",
       "      <td>64705.20</td>\n",
       "      <td>14</td>\n",
       "      <td>8266545.89</td>\n",
       "      <td>196</td>\n",
       "    </tr>\n",
       "    <tr>\n",
       "      <th>3</th>\n",
       "      <td>3243.97</td>\n",
       "      <td>Black Hawk</td>\n",
       "      <td>51743.43</td>\n",
       "      <td>15</td>\n",
       "      <td>7170397.56</td>\n",
       "      <td>225</td>\n",
       "    </tr>\n",
       "    <tr>\n",
       "      <th>4</th>\n",
       "      <td>3098.04</td>\n",
       "      <td>Pottawattamie</td>\n",
       "      <td>55952.57</td>\n",
       "      <td>15</td>\n",
       "      <td>4655599.33</td>\n",
       "      <td>225</td>\n",
       "    </tr>\n",
       "  </tbody>\n",
       "</table>\n",
       "</div>"
      ],
      "text/plain": [
       "   Volume_Sold_Litres         County  Sale_Dollars  Vendor_Name     GDP_2020  \\\n",
       "0            13335.36           Polk     245050.34           15  36898664.78   \n",
       "1             6593.87           Linn     104595.08           14  16074627.44   \n",
       "2             4209.96          Scott      64705.20           14   8266545.89   \n",
       "3             3243.97     Black Hawk      51743.43           15   7170397.56   \n",
       "4             3098.04  Pottawattamie      55952.57           15   4655599.33   \n",
       "\n",
       "   Vendor_Name_square  \n",
       "0                 225  \n",
       "1                 196  \n",
       "2                 196  \n",
       "3                 225  \n",
       "4                 225  "
      ]
     },
     "execution_count": 156,
     "metadata": {},
     "output_type": "execute_result"
    }
   ],
   "source": [
    "# Get County wise data for 2020 \n",
    "\n",
    "liquor_2020 = liquor[liquor['Year']==2020]\n",
    "liquor_2020_County_volume = liquor_2020.groupby(['County'])['Volume_Sold_Litres'].sum().to_frame().sort_values('Volume_Sold_Litres', ascending=0)\n",
    "\n",
    "# resetting the index\n",
    "liquor_2020_County_volume['County'] = liquor_2020_County_volume.index\n",
    "\n",
    "liquor_2020_County_volume.index = range(0, len(liquor_2020_County_volume))\n",
    "\n",
    "\n",
    "liquor_2020_County_Brand_count = liquor_2020.groupby(['County'])['Vendor_Name'].nunique().to_frame().sort_values('Vendor_Name', ascending=0)\n",
    "\n",
    "# resetting the index\n",
    "liquor_2020_County_Brand_count['County'] = liquor_2020_County_Brand_count.index\n",
    "\n",
    "liquor_2020_County_Brand_count.index = range(0, len(liquor_2020_County_Brand_count))\n",
    "\n",
    "\n",
    "liquor_2020_County_sales = liquor_2020.groupby(['County'])['Sale_Dollars'].sum().to_frame().sort_values('Sale_Dollars', ascending=0)\n",
    "\n",
    "# resetting the index\n",
    "liquor_2020_County_sales['County'] = liquor_2020_County_sales.index\n",
    "\n",
    "liquor_2020_County_sales.index = range(0, len(liquor_2020_County_sales))\n",
    "\n",
    "\n",
    "liquor_2020_county = pandas.merge(liquor_2020_County_volume, liquor_2020_County_sales, how='inner', on='County')\n",
    "liquor_2020_county = pandas.merge(liquor_2020_county, liquor_2020_County_Brand_count, how='inner', on='County')\n",
    "liquor_2020_county=pandas.merge(liquor_2020_county,iowa_gdp[['County','GDP_2020']], on='County')\n",
    "\n",
    "\n",
    "liquor_2020_county['Vendor_Name_square']= liquor_2020_county['Vendor_Name']**2\n",
    "liquor_2020_county.head()\n",
    "\n",
    "\n",
    "\n",
    "\n"
   ]
  },
  {
   "cell_type": "code",
   "execution_count": 190,
   "metadata": {},
   "outputs": [],
   "source": [
    "# Predict Sales for 2020\n",
    "new_y_pred =b_const + b_GDP_2016*((liquor_2020_county['GDP_2020'])) + b_Vendor_Name*liquor_2019_county['Vendor_Name'] + b_Volume_Sold_Litres*liquor_2019_county['Volume_Sold_Litres'] + b_Vendor_Name_square*liquor_2019_county['Vendor_Name_square']"
   ]
  },
  {
   "cell_type": "code",
   "execution_count": 191,
   "metadata": {},
   "outputs": [
    {
     "data": {
      "text/plain": [
       "16083943.895100024"
      ]
     },
     "execution_count": 191,
     "metadata": {},
     "output_type": "execute_result"
    }
   ],
   "source": [
    "# Annual predicted Sales for2020\n",
    "numpy.sum(new_y_pred)"
   ]
  },
  {
   "cell_type": "code",
   "execution_count": 157,
   "metadata": {},
   "outputs": [
    {
     "data": {
      "text/plain": [
       "1061760.7200000023"
      ]
     },
     "execution_count": 157,
     "metadata": {},
     "output_type": "execute_result"
    }
   ],
   "source": [
    "# Annual sales for 2020\n",
    "numpy.sum(liquor_2020_county['Sale_Dollars'])"
   ]
  },
  {
   "cell_type": "code",
   "execution_count": 193,
   "metadata": {},
   "outputs": [
    {
     "data": {
      "text/plain": [
       "16220586.869999576"
      ]
     },
     "execution_count": 193,
     "metadata": {},
     "output_type": "execute_result"
    }
   ],
   "source": [
    "# Annual sales for 2019\n",
    "numpy.sum(liquor_2019_county['Sale_Dollars'])"
   ]
  },
  {
   "cell_type": "code",
   "execution_count": 187,
   "metadata": {},
   "outputs": [
    {
     "data": {
      "text/plain": [
       "17256088.619999453"
      ]
     },
     "execution_count": 187,
     "metadata": {},
     "output_type": "execute_result"
    }
   ],
   "source": [
    "# Annual sales for 2018\n",
    "numpy.sum(liquor_2018_county['Sale_Dollars'])"
   ]
  },
  {
   "cell_type": "code",
   "execution_count": 195,
   "metadata": {},
   "outputs": [
    {
     "data": {
      "text/plain": [
       "15520555.979999458"
      ]
     },
     "execution_count": 195,
     "metadata": {},
     "output_type": "execute_result"
    }
   ],
   "source": [
    "# Annual sales for 2017\n",
    "numpy.sum(liquor_2017_county['Sale_Dollars'])"
   ]
  },
  {
   "cell_type": "code",
   "execution_count": 196,
   "metadata": {},
   "outputs": [
    {
     "data": {
      "text/plain": [
       "15562198.71999944"
      ]
     },
     "execution_count": 196,
     "metadata": {},
     "output_type": "execute_result"
    }
   ],
   "source": [
    "# Annual sales for 2016\n",
    "numpy.sum(liquor_2016_county['Sale_Dollars'])"
   ]
  },
  {
   "cell_type": "code",
   "execution_count": 5,
   "metadata": {},
   "outputs": [
    {
     "data": {
      "text/html": [
       "<div>\n",
       "<style scoped>\n",
       "    .dataframe tbody tr th:only-of-type {\n",
       "        vertical-align: middle;\n",
       "    }\n",
       "\n",
       "    .dataframe tbody tr th {\n",
       "        vertical-align: top;\n",
       "    }\n",
       "\n",
       "    .dataframe thead th {\n",
       "        text-align: right;\n",
       "    }\n",
       "</style>\n",
       "<table border=\"1\" class=\"dataframe\">\n",
       "  <thead>\n",
       "    <tr style=\"text-align: right;\">\n",
       "      <th></th>\n",
       "      <th>Model</th>\n",
       "      <th>Mean absolute Error</th>\n",
       "      <th>Root Mean Squared Error</th>\n",
       "    </tr>\n",
       "  </thead>\n",
       "  <tbody>\n",
       "    <tr>\n",
       "      <th>0</th>\n",
       "      <td>Model 1</td>\n",
       "      <td>13416.35</td>\n",
       "      <td>22938.47</td>\n",
       "    </tr>\n",
       "    <tr>\n",
       "      <th>1</th>\n",
       "      <td>Model 2</td>\n",
       "      <td>11726.78</td>\n",
       "      <td>21408.58</td>\n",
       "    </tr>\n",
       "    <tr>\n",
       "      <th>2</th>\n",
       "      <td>Model 3</td>\n",
       "      <td>13011.74</td>\n",
       "      <td>20798.34</td>\n",
       "    </tr>\n",
       "    <tr>\n",
       "      <th>3</th>\n",
       "      <td>Model 9</td>\n",
       "      <td>10083.79</td>\n",
       "      <td>16234.59</td>\n",
       "    </tr>\n",
       "  </tbody>\n",
       "</table>\n",
       "</div>"
      ],
      "text/plain": [
       "     Model  Mean absolute Error  Root Mean Squared Error\n",
       "0  Model 1             13416.35                 22938.47\n",
       "1  Model 2             11726.78                 21408.58\n",
       "2  Model 3             13011.74                 20798.34\n",
       "3  Model 9             10083.79                 16234.59"
      ]
     },
     "execution_count": 5,
     "metadata": {},
     "output_type": "execute_result"
    }
   ],
   "source": [
    "models = pandas.read_csv('C:\\\\Users\\\\shiva\\\\Desktop\\\\DPA\\\\Model.csv')\n",
    "models.head()"
   ]
  },
  {
   "cell_type": "code",
   "execution_count": 7,
   "metadata": {},
   "outputs": [
    {
     "data": {
      "image/png": "[encoded data removed]",
      "text/plain": [
       "<Figure size 640x480 with 1 Axes>"
      ]
     },
     "metadata": {},
     "output_type": "display_data"
    }
   ],
   "source": [
    "# Model comparison\n",
    "from matplotlib.pyplot import figure\n",
    "figure(num=None, figsize=(8, 6), dpi=80, facecolor='w', edgecolor='k')\n",
    "\n",
    "# set width of bar\n",
    "barWidth = 0.25\n",
    " \n",
    "# set height of bar\n",
    "#bars1 = models['Mean Squared Error']\n",
    "bars2 = models['Mean absolute Error']\n",
    "bars3 = models['Root Mean Squared Error']\n",
    " \n",
    "# Set position of bar on X axis\n",
    "r1 = numpy.arange(len(bars2))\n",
    "r2 = [x + barWidth for x in r1]\n",
    "r3 = [x + barWidth for x in r2]\n",
    " \n",
    "# Make the plot\n",
    "#plt.bar(r1, bars1, color='#7f6d5f', width=barWidth, edgecolor='white', label='Mean Squared Error')\n",
    "plt.bar(r2, bars2, color='#7f6d5f', width=barWidth, edgecolor='white', label='Mean Absolute Error')\n",
    "plt.bar(r3, bars3, color='#2d7f5e', width=barWidth, edgecolor='white', label='Root Mean Squared Error')\n",
    " \n",
    "# Add xticks on the middle of the group bars\n",
    "plt.xlabel('Linear Regression Models', fontweight='bold')\n",
    "plt.xticks([r + barWidth for r in range(len(bars2))], ['Model 1', 'Model 2', 'Model 3', 'Model 9'])\n",
    "\n",
    "\n",
    "# Create legend & Show graphic\n",
    "plt.legend()\n",
    "plt.show()\n"
   ]
  },
  {
   "cell_type": "code",
   "execution_count": null,
   "metadata": {},
   "outputs": [],
   "source": []
  }
 ],
 "metadata": {
  "kernelspec": {
   "display_name": "Python 3",
   "language": "python",
   "name": "python3"
  },
  "language_info": {
   "codemirror_mode": {
    "name": "ipython",
    "version": 3
   },
   "file_extension": ".py",
   "mimetype": "text/x-python",
   "name": "python",
   "nbconvert_exporter": "python",
   "pygments_lexer": "ipython3",
   "version": "3.7.3"
  }
 },
 "nbformat": 4,
 "nbformat_minor": 2
}
